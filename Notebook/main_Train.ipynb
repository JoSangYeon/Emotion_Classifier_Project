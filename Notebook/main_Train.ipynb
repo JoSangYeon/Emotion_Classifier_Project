{
 "cells": [
  {
   "cell_type": "markdown",
   "id": "6835d20a",
   "metadata": {},
   "source": [
    "### Module Import"
   ]
  },
  {
   "cell_type": "code",
   "execution_count": 1,
   "id": "2b34282c",
   "metadata": {},
   "outputs": [
    {
     "data": {
      "text/plain": [
       "'1.11.0+cu102'"
      ]
     },
     "execution_count": 1,
     "metadata": {},
     "output_type": "execute_result"
    }
   ],
   "source": [
    "# https://github.com/HideOnHouse/TorchBase\n",
    "\n",
    "import pickle\n",
    "import pandas as pd\n",
    "import numpy as np\n",
    "import matplotlib.pyplot as plt\n",
    "\n",
    "import torch\n",
    "import torch.nn as nn\n",
    "import torch.nn.functional as F\n",
    "import torch.optim as optim\n",
    "from torch.utils.data import Dataset, DataLoader\n",
    "from sklearn.model_selection import train_test_split\n",
    "\n",
    "from dataset import *\n",
    "from model import get_Model\n",
    "from learning import *\n",
    "from inference import *\n",
    "\n",
    "torch.__version__"
   ]
  },
  {
   "cell_type": "markdown",
   "id": "49543210",
   "metadata": {},
   "source": [
    "### 함수 선언"
   ]
  },
  {
   "cell_type": "code",
   "execution_count": 2,
   "id": "23b1f033",
   "metadata": {},
   "outputs": [],
   "source": [
    "def label2int(data, label_tags):\n",
    "    for i in range(len(data)):\n",
    "        data.iloc[i,1] = label_tags.index(data.iloc[i, 1])\n",
    "    return data\n",
    "\n",
    "\n",
    "def draw_history(history):\n",
    "    train_loss = history[\"train_loss\"]\n",
    "    train_acc = history[\"train_acc\"]\n",
    "    valid_loss = history[\"valid_loss\"]\n",
    "    valid_acc = history[\"valid_acc\"]\n",
    "\n",
    "    plt.subplot(2,1,1)\n",
    "    plt.title(\"Loss\")\n",
    "    plt.plot(train_loss, label=\"train\")\n",
    "    plt.plot(valid_loss, label=\"valid\")\n",
    "    plt.legend()\n",
    "\n",
    "    plt.subplot(2,1,2)\n",
    "    plt.title('Accuracy')\n",
    "    plt.plot(train_acc, label=\"train\")\n",
    "    plt.plot(valid_acc, label=\"valid\")\n",
    "    plt.legend()\n",
    "\n",
    "    plt.show()"
   ]
  },
  {
   "cell_type": "code",
   "execution_count": 3,
   "id": "e2533166",
   "metadata": {},
   "outputs": [
    {
     "name": "stdout",
     "output_type": "stream",
     "text": [
      "The Shape of Train Input:  (9405, 1)\n",
      "The Shape of Valid Input:  (495, 1)\n",
      "The Shape of Test Input:  (100, 1)\n",
      "The Shape of Train Labels:  (9405, 1)\n",
      "The Shape of Valid Labels:  (495, 1)\n",
      "The Shape of Valid Labels:  (100, 1)\n"
     ]
    }
   ],
   "source": [
    "# label_tags\n",
    "label_tags = ['불안', '슬픔', '기쁨']\n",
    "\n",
    "train_path = \"train.csv\"\n",
    "test_path = \"test.csv\"\n",
    "\n",
    "train_data = pd.read_csv(train_path)\n",
    "test_data = pd.read_csv(test_path)\n",
    "\n",
    "train_data = label2int(train_data, label_tags)\n",
    "test_data = label2int(test_data, label_tags)\n",
    "\n",
    "# your Data Pre-Processing\n",
    "train_x, train_y = train_data.iloc[:, :1], train_data.iloc[:, 1:]\n",
    "test_x, test_y = test_data.iloc[:, :1], test_data.iloc[:, 1:]\n",
    "\n",
    "# data split\n",
    "train_x, valid_x, train_y, valid_y = train_test_split(train_x, train_y, stratify=train_y, random_state=17, test_size=0.05)\n",
    "\n",
    "# Check Train, Valid, Test Image's Shape\n",
    "print(\"The Shape of Train Input: \", train_x.shape)\n",
    "print(\"The Shape of Valid Input: \", valid_x.shape)\n",
    "print(\"The Shape of Test Input: \", test_x.shape)\n",
    "\n",
    "# Check Train, Valid Label's Shape\n",
    "print(\"The Shape of Train Labels: \", train_y.shape)\n",
    "print(\"The Shape of Valid Labels: \", valid_y.shape)\n",
    "print(\"The Shape of Valid Labels: \", test_y.shape)"
   ]
  },
  {
   "cell_type": "markdown",
   "id": "5b13d66e",
   "metadata": {},
   "source": [
    "## Model 1\n",
    "+ basis Model"
   ]
  },
  {
   "cell_type": "markdown",
   "id": "d3ee6d79",
   "metadata": {},
   "source": [
    "### Klue BERT-base"
   ]
  },
  {
   "cell_type": "code",
   "execution_count": 4,
   "id": "3c9db6c4",
   "metadata": {},
   "outputs": [],
   "source": [
    "model_path = \"klue/bert-base\"\n",
    "\n",
    "train_dataset = MyDataset(train_x, train_y, model_path=model_path)\n",
    "valid_dataset = MyDataset(valid_x, valid_y, model_path=model_path)\n",
    "test_dataset = MyDataset(test_x, test_y, model_path=model_path)\n",
    "\n",
    "train_loader = DataLoader(train_dataset, batch_size=64, shuffle=True)\n",
    "valid_loader = DataLoader(valid_dataset, batch_size=32)\n",
    "test_loader = DataLoader(test_dataset, batch_size=32)"
   ]
  },
  {
   "cell_type": "code",
   "execution_count": 5,
   "id": "211a97b9",
   "metadata": {},
   "outputs": [
    {
     "name": "stderr",
     "output_type": "stream",
     "text": [
      "Some weights of the model checkpoint at klue/bert-base were not used when initializing BertModel: ['cls.predictions.decoder.bias', 'cls.predictions.decoder.weight', 'cls.predictions.transform.LayerNorm.weight', 'cls.predictions.transform.dense.bias', 'cls.predictions.transform.dense.weight', 'cls.predictions.transform.LayerNorm.bias', 'cls.seq_relationship.bias', 'cls.predictions.bias', 'cls.seq_relationship.weight']\n",
      "- This IS expected if you are initializing BertModel from the checkpoint of a model trained on another task or with another architecture (e.g. initializing a BertForSequenceClassification model from a BertForPreTraining model).\n",
      "- This IS NOT expected if you are initializing BertModel from the checkpoint of a model that you expect to be exactly identical (initializing a BertForSequenceClassification model from a BertForSequenceClassification model).\n"
     ]
    },
    {
     "data": {
      "text/plain": [
       "'cuda'"
      ]
     },
     "execution_count": 5,
     "metadata": {},
     "output_type": "execute_result"
    }
   ],
   "source": [
    "class_name = \"MyModel_1\"\n",
    "model = get_Model(class_name, model_path)\n",
    "device = 'cuda' if torch.cuda.is_available() else 'cpu'\n",
    "optimizer = torch.optim.AdamW(model.parameters(), lr=5e-5)\n",
    "criterion = nn.CrossEntropyLoss()\n",
    "\n",
    "device"
   ]
  },
  {
   "cell_type": "code",
   "execution_count": 6,
   "id": "8ace7f2d",
   "metadata": {},
   "outputs": [
    {
     "name": "stdout",
     "output_type": "stream",
     "text": [
      "============================= Train =============================\n",
      "147it [01:30,  1.62it/s, epoch=1/10, loss=0.009362, acc=0.737]\n",
      "16it [00:01,  8.31it/s, loss=0.015361, acc=0.794]\n",
      "\n",
      "147it [01:31,  1.60it/s, epoch=2/10, loss=0.006649, acc=0.825]\n",
      "16it [00:01,  8.22it/s, loss=0.014700, acc=0.796]\n",
      "\n",
      "147it [01:31,  1.60it/s, epoch=3/10, loss=0.005058, acc=0.876]\n",
      "16it [00:01,  8.49it/s, loss=0.016629, acc=0.788]\n",
      "\n",
      "147it [01:31,  1.60it/s, epoch=4/10, loss=0.003368, acc=0.922]\n",
      "16it [00:01,  8.48it/s, loss=0.017405, acc=0.804]\n",
      "\n",
      "147it [01:31,  1.60it/s, epoch=5/10, loss=0.002129, acc=0.953]\n",
      "16it [00:01,  8.48it/s, loss=0.022468, acc=0.802]\n",
      "\n",
      "147it [01:31,  1.60it/s, epoch=6/10, loss=0.001412, acc=0.971]\n",
      "16it [00:01,  8.54it/s, loss=0.025805, acc=0.800]\n",
      "\n",
      "147it [01:31,  1.60it/s, epoch=7/10, loss=0.000931, acc=0.981]\n",
      "16it [00:01,  8.55it/s, loss=0.028886, acc=0.786]\n",
      "\n",
      "147it [01:31,  1.60it/s, epoch=8/10, loss=0.000732, acc=0.985]\n",
      "16it [00:01,  8.32it/s, loss=0.028427, acc=0.790]\n",
      "\n",
      "147it [01:31,  1.60it/s, epoch=9/10, loss=0.000874, acc=0.982]\n",
      "16it [00:01,  8.53it/s, loss=0.030483, acc=0.804]\n",
      "\n",
      "147it [01:31,  1.61it/s, epoch=10/10, loss=0.000533, acc=0.989]\n",
      "16it [00:01,  8.48it/s, loss=0.031414, acc=0.784]\n",
      "\n"
     ]
    }
   ],
   "source": [
    "# train\n",
    "print(\"============================= Train =============================\")\n",
    "history = train(model, device, optimizer, criterion, 10, train_loader, valid_loader)"
   ]
  },
  {
   "cell_type": "code",
   "execution_count": 7,
   "id": "69b3e3ee",
   "metadata": {},
   "outputs": [
    {
     "data": {
      "image/png": "[encoded data removed]",
      "text/plain": [
       "<Figure size 432x288 with 2 Axes>"
      ]
     },
     "metadata": {
      "needs_background": "light"
     },
     "output_type": "display_data"
    }
   ],
   "source": [
    "draw_history(history)"
   ]
  },
  {
   "cell_type": "code",
   "execution_count": 8,
   "id": "a65cf50a",
   "metadata": {},
   "outputs": [
    {
     "name": "stdout",
     "output_type": "stream",
     "text": [
      "============================= Test =============================\n",
      "4it [00:00,  9.93it/s, loss=0.051182, acc=0.760]\n",
      "test loss : 1.279549\n",
      "test acc : 0.760\n"
     ]
    }
   ],
   "source": [
    "# Test\n",
    "print(\"============================= Test =============================\")\n",
    "test_loss, test_acc = evaluate(model, device, criterion, test_loader)\n",
    "print(\"test loss : {:.6f}\".format(test_loss))\n",
    "print(\"test acc : {:.3f}\".format(test_acc))"
   ]
  },
  {
   "cell_type": "code",
   "execution_count": 9,
   "id": "47c13169",
   "metadata": {},
   "outputs": [],
   "source": [
    "file_name = class_name+\"_BERT\"\n",
    "torch.save(model, f\"models/{file_name}.pt\")\n",
    "with open(f\"models/{file_name}_history.pickle\", 'wb') as f:\n",
    "    pickle.dump(history, f, pickle.HIGHEST_PROTOCOL)"
   ]
  },
  {
   "cell_type": "markdown",
   "id": "7902dd31",
   "metadata": {},
   "source": [
    "### Klue RoBerta-base"
   ]
  },
  {
   "cell_type": "code",
   "execution_count": 4,
   "id": "9ca31e2a",
   "metadata": {},
   "outputs": [],
   "source": [
    "model_path = \"klue/roberta-base\"\n",
    "\n",
    "train_dataset = MyDataset(train_x, train_y, model_path=model_path)\n",
    "valid_dataset = MyDataset(valid_x, valid_y, model_path=model_path)\n",
    "test_dataset = MyDataset(test_x, test_y, model_path=model_path)\n",
    "\n",
    "train_loader = DataLoader(train_dataset, batch_size=64, shuffle=True)\n",
    "valid_loader = DataLoader(valid_dataset, batch_size=32)\n",
    "test_loader = DataLoader(test_dataset, batch_size=32)"
   ]
  },
  {
   "cell_type": "code",
   "execution_count": 5,
   "id": "a49f0453",
   "metadata": {},
   "outputs": [
    {
     "name": "stderr",
     "output_type": "stream",
     "text": [
      "Some weights of the model checkpoint at klue/roberta-base were not used when initializing RobertaModel: ['lm_head.dense.bias', 'lm_head.layer_norm.bias', 'lm_head.decoder.bias', 'lm_head.bias', 'lm_head.decoder.weight', 'lm_head.dense.weight', 'lm_head.layer_norm.weight']\n",
      "- This IS expected if you are initializing RobertaModel from the checkpoint of a model trained on another task or with another architecture (e.g. initializing a BertForSequenceClassification model from a BertForPreTraining model).\n",
      "- This IS NOT expected if you are initializing RobertaModel from the checkpoint of a model that you expect to be exactly identical (initializing a BertForSequenceClassification model from a BertForSequenceClassification model).\n",
      "Some weights of RobertaModel were not initialized from the model checkpoint at klue/roberta-base and are newly initialized: ['roberta.pooler.dense.bias', 'roberta.pooler.dense.weight']\n",
      "You should probably TRAIN this model on a down-stream task to be able to use it for predictions and inference.\n"
     ]
    },
    {
     "data": {
      "text/plain": [
       "'cuda'"
      ]
     },
     "execution_count": 5,
     "metadata": {},
     "output_type": "execute_result"
    }
   ],
   "source": [
    "class_name = \"MyModel_1\"\n",
    "model = get_Model(class_name, model_path)\n",
    "device = 'cuda' if torch.cuda.is_available() else 'cpu'\n",
    "optimizer = torch.optim.AdamW(model.parameters(), lr=5e-5)\n",
    "criterion = nn.CrossEntropyLoss()\n",
    "\n",
    "device"
   ]
  },
  {
   "cell_type": "code",
   "execution_count": 6,
   "id": "3dd271a5",
   "metadata": {},
   "outputs": [
    {
     "name": "stdout",
     "output_type": "stream",
     "text": [
      "============================= Train =============================\n",
      "147it [01:31,  1.61it/s, epoch=1/10, loss=0.010615, acc=0.705]\n",
      "16it [00:01,  8.63it/s, loss=0.016852, acc=0.786]\n",
      "\n",
      "147it [01:31,  1.61it/s, epoch=2/10, loss=0.007547, acc=0.804]\n",
      "16it [00:01,  8.64it/s, loss=0.016538, acc=0.772]\n",
      "\n",
      "147it [01:31,  1.61it/s, epoch=3/10, loss=0.006373, acc=0.841]\n",
      "16it [00:01,  8.36it/s, loss=0.016395, acc=0.798]\n",
      "\n",
      "147it [01:31,  1.61it/s, epoch=4/10, loss=0.005319, acc=0.874]\n",
      "16it [00:01,  8.57it/s, loss=0.018177, acc=0.812]\n",
      "\n",
      "147it [01:31,  1.61it/s, epoch=5/10, loss=0.004301, acc=0.905]\n",
      "16it [00:01,  8.62it/s, loss=0.018055, acc=0.792]\n",
      "\n",
      "147it [01:31,  1.61it/s, epoch=6/10, loss=0.003211, acc=0.927]\n",
      "16it [00:01,  8.67it/s, loss=0.019026, acc=0.788]\n",
      "\n",
      "147it [01:31,  1.61it/s, epoch=7/10, loss=0.002485, acc=0.946]\n",
      "16it [00:01,  8.68it/s, loss=0.021052, acc=0.792]\n",
      "\n",
      "147it [01:31,  1.61it/s, epoch=8/10, loss=0.001944, acc=0.960]\n",
      "16it [00:01,  8.62it/s, loss=0.022811, acc=0.804]\n",
      "\n",
      "147it [01:31,  1.61it/s, epoch=9/10, loss=0.001519, acc=0.970]\n",
      "16it [00:01,  8.47it/s, loss=0.024395, acc=0.802]\n",
      "\n",
      "147it [01:31,  1.60it/s, epoch=10/10, loss=0.001158, acc=0.977]\n",
      "16it [00:01,  8.55it/s, loss=0.029371, acc=0.776]\n",
      "\n"
     ]
    }
   ],
   "source": [
    "# train\n",
    "print(\"============================= Train =============================\")\n",
    "history = train(model, device, optimizer, criterion, 10, train_loader, valid_loader)"
   ]
  },
  {
   "cell_type": "code",
   "execution_count": 7,
   "id": "1be82dfb",
   "metadata": {},
   "outputs": [
    {
     "data": {
      "image/png": "[encoded data removed]",
      "text/plain": [
       "<Figure size 432x288 with 2 Axes>"
      ]
     },
     "metadata": {
      "needs_background": "light"
     },
     "output_type": "display_data"
    }
   ],
   "source": [
    "draw_history(history)"
   ]
  },
  {
   "cell_type": "code",
   "execution_count": 8,
   "id": "987d980a",
   "metadata": {},
   "outputs": [
    {
     "name": "stdout",
     "output_type": "stream",
     "text": [
      "============================= Test =============================\n",
      "4it [00:00, 10.15it/s, loss=0.041722, acc=0.790]\n",
      "test loss : 1.043060\n",
      "test acc : 0.790\n"
     ]
    }
   ],
   "source": [
    "# Test\n",
    "print(\"============================= Test =============================\")\n",
    "test_loss, test_acc = evaluate(model, device, criterion, test_loader)\n",
    "print(\"test loss : {:.6f}\".format(test_loss))\n",
    "print(\"test acc : {:.3f}\".format(test_acc))"
   ]
  },
  {
   "cell_type": "code",
   "execution_count": 9,
   "id": "248954c8",
   "metadata": {},
   "outputs": [],
   "source": [
    "file_name = class_name+\"_RoBERTa\"\n",
    "torch.save(model, f\"models/{file_name}.pt\")\n",
    "with open(f\"models/{file_name}_history.pickle\", 'wb') as f:\n",
    "    pickle.dump(history, f, pickle.HIGHEST_PROTOCOL)"
   ]
  },
  {
   "cell_type": "markdown",
   "id": "2c0a9b70",
   "metadata": {},
   "source": [
    "## Model 2\n",
    "+ Mean Pooling"
   ]
  },
  {
   "cell_type": "markdown",
   "id": "0945535a",
   "metadata": {},
   "source": [
    "### Klue BERT-base"
   ]
  },
  {
   "cell_type": "code",
   "execution_count": 4,
   "id": "5ff76678",
   "metadata": {},
   "outputs": [],
   "source": [
    "model_path = \"klue/bert-base\"\n",
    "\n",
    "train_dataset = MyDataset(train_x, train_y, model_path=model_path)\n",
    "valid_dataset = MyDataset(valid_x, valid_y, model_path=model_path)\n",
    "test_dataset = MyDataset(test_x, test_y, model_path=model_path)\n",
    "\n",
    "train_loader = DataLoader(train_dataset, batch_size=64, shuffle=True)\n",
    "valid_loader = DataLoader(valid_dataset, batch_size=32)\n",
    "test_loader = DataLoader(test_dataset, batch_size=32)"
   ]
  },
  {
   "cell_type": "code",
   "execution_count": 5,
   "id": "8fbf58fe",
   "metadata": {},
   "outputs": [
    {
     "name": "stderr",
     "output_type": "stream",
     "text": [
      "Some weights of the model checkpoint at klue/bert-base were not used when initializing BertModel: ['cls.predictions.transform.LayerNorm.weight', 'cls.predictions.transform.LayerNorm.bias', 'cls.seq_relationship.weight', 'cls.predictions.transform.dense.weight', 'cls.predictions.decoder.bias', 'cls.predictions.decoder.weight', 'cls.seq_relationship.bias', 'cls.predictions.transform.dense.bias', 'cls.predictions.bias']\n",
      "- This IS expected if you are initializing BertModel from the checkpoint of a model trained on another task or with another architecture (e.g. initializing a BertForSequenceClassification model from a BertForPreTraining model).\n",
      "- This IS NOT expected if you are initializing BertModel from the checkpoint of a model that you expect to be exactly identical (initializing a BertForSequenceClassification model from a BertForSequenceClassification model).\n"
     ]
    },
    {
     "data": {
      "text/plain": [
       "'cuda'"
      ]
     },
     "execution_count": 5,
     "metadata": {},
     "output_type": "execute_result"
    }
   ],
   "source": [
    "class_name = \"MyModel_2\"\n",
    "model = get_Model(class_name, model_path)\n",
    "device = 'cuda' if torch.cuda.is_available() else 'cpu'\n",
    "optimizer = torch.optim.AdamW(model.parameters(), lr=5e-5)\n",
    "criterion = nn.CrossEntropyLoss()\n",
    "\n",
    "device"
   ]
  },
  {
   "cell_type": "code",
   "execution_count": 6,
   "id": "585423b4",
   "metadata": {},
   "outputs": [
    {
     "name": "stdout",
     "output_type": "stream",
     "text": [
      "============================= Train =============================\n",
      "147it [01:29,  1.64it/s, epoch=1/10, loss=0.009260, acc=0.740]\n",
      "16it [00:01,  8.59it/s, loss=0.015065, acc=0.794]\n",
      "\n",
      "147it [01:31,  1.61it/s, epoch=2/10, loss=0.006476, acc=0.826]\n",
      "16it [00:01,  8.55it/s, loss=0.013906, acc=0.820]\n",
      "\n",
      "147it [01:31,  1.61it/s, epoch=3/10, loss=0.004887, acc=0.877]\n",
      "16it [00:01,  8.51it/s, loss=0.016348, acc=0.802]\n",
      "\n",
      "147it [01:31,  1.61it/s, epoch=4/10, loss=0.003059, acc=0.930]\n",
      "16it [00:01,  8.56it/s, loss=0.019302, acc=0.796]\n",
      "\n",
      "147it [01:31,  1.61it/s, epoch=5/10, loss=0.001870, acc=0.957]\n",
      "16it [00:01,  8.57it/s, loss=0.020821, acc=0.776]\n",
      "\n",
      "147it [01:31,  1.61it/s, epoch=6/10, loss=0.001395, acc=0.971]\n",
      "16it [00:01,  8.11it/s, loss=0.024872, acc=0.796]\n",
      "\n",
      "147it [01:31,  1.61it/s, epoch=7/10, loss=0.000837, acc=0.982]\n",
      "16it [00:01,  8.52it/s, loss=0.027298, acc=0.800]\n",
      "\n",
      "147it [01:31,  1.61it/s, epoch=8/10, loss=0.000664, acc=0.984]\n",
      "16it [00:01,  8.54it/s, loss=0.028824, acc=0.770]\n",
      "\n",
      "147it [01:31,  1.61it/s, epoch=9/10, loss=0.000616, acc=0.987]\n",
      "16it [00:01,  8.53it/s, loss=0.029749, acc=0.788]\n",
      "\n",
      "147it [01:31,  1.61it/s, epoch=10/10, loss=0.000472, acc=0.990]\n",
      "16it [00:01,  8.55it/s, loss=0.032248, acc=0.806]\n",
      "\n"
     ]
    }
   ],
   "source": [
    "# train\n",
    "print(\"============================= Train =============================\")\n",
    "history = train(model, device, optimizer, criterion, 10, train_loader, valid_loader)"
   ]
  },
  {
   "cell_type": "code",
   "execution_count": 7,
   "id": "01218d95",
   "metadata": {},
   "outputs": [
    {
     "data": {
      "image/png": "[encoded data removed]",
      "text/plain": [
       "<Figure size 432x288 with 2 Axes>"
      ]
     },
     "metadata": {
      "needs_background": "light"
     },
     "output_type": "display_data"
    }
   ],
   "source": [
    "draw_history(history)"
   ]
  },
  {
   "cell_type": "code",
   "execution_count": 8,
   "id": "ee32ba2a",
   "metadata": {},
   "outputs": [
    {
     "name": "stdout",
     "output_type": "stream",
     "text": [
      "============================= Test =============================\n",
      "4it [00:00, 10.05it/s, loss=0.058455, acc=0.780]\n",
      "test loss : 1.461363\n",
      "test acc : 0.780\n"
     ]
    }
   ],
   "source": [
    "# Test\n",
    "print(\"============================= Test =============================\")\n",
    "test_loss, test_acc = evaluate(model, device, criterion, test_loader)\n",
    "print(\"test loss : {:.6f}\".format(test_loss))\n",
    "print(\"test acc : {:.3f}\".format(test_acc))"
   ]
  },
  {
   "cell_type": "code",
   "execution_count": 9,
   "id": "dad12b0b",
   "metadata": {},
   "outputs": [],
   "source": [
    "file_name = class_name+\"_BERT\"\n",
    "torch.save(model, f\"models/{file_name}.pt\")\n",
    "with open(f\"models/{file_name}_history.pickle\", 'wb') as f:\n",
    "    pickle.dump(history, f, pickle.HIGHEST_PROTOCOL)"
   ]
  },
  {
   "cell_type": "markdown",
   "id": "7f7c8c87",
   "metadata": {},
   "source": [
    "### Klue RoBerta-base"
   ]
  },
  {
   "cell_type": "code",
   "execution_count": 4,
   "id": "e80085ad",
   "metadata": {},
   "outputs": [],
   "source": [
    "model_path = \"klue/roberta-base\"\n",
    "\n",
    "train_dataset = MyDataset(train_x, train_y, model_path=model_path)\n",
    "valid_dataset = MyDataset(valid_x, valid_y, model_path=model_path)\n",
    "test_dataset = MyDataset(test_x, test_y, model_path=model_path)\n",
    "\n",
    "train_loader = DataLoader(train_dataset, batch_size=64, shuffle=True)\n",
    "valid_loader = DataLoader(valid_dataset, batch_size=32)\n",
    "test_loader = DataLoader(test_dataset, batch_size=32)"
   ]
  },
  {
   "cell_type": "code",
   "execution_count": 5,
   "id": "20ddec89",
   "metadata": {},
   "outputs": [
    {
     "name": "stderr",
     "output_type": "stream",
     "text": [
      "Some weights of the model checkpoint at klue/roberta-base were not used when initializing RobertaModel: ['lm_head.decoder.bias', 'lm_head.dense.bias', 'lm_head.bias', 'lm_head.dense.weight', 'lm_head.decoder.weight', 'lm_head.layer_norm.bias', 'lm_head.layer_norm.weight']\n",
      "- This IS expected if you are initializing RobertaModel from the checkpoint of a model trained on another task or with another architecture (e.g. initializing a BertForSequenceClassification model from a BertForPreTraining model).\n",
      "- This IS NOT expected if you are initializing RobertaModel from the checkpoint of a model that you expect to be exactly identical (initializing a BertForSequenceClassification model from a BertForSequenceClassification model).\n",
      "Some weights of RobertaModel were not initialized from the model checkpoint at klue/roberta-base and are newly initialized: ['roberta.pooler.dense.bias', 'roberta.pooler.dense.weight']\n",
      "You should probably TRAIN this model on a down-stream task to be able to use it for predictions and inference.\n"
     ]
    },
    {
     "data": {
      "text/plain": [
       "'cuda'"
      ]
     },
     "execution_count": 5,
     "metadata": {},
     "output_type": "execute_result"
    }
   ],
   "source": [
    "class_name = \"MyModel_2\"\n",
    "model = get_Model(class_name, model_path)\n",
    "device = 'cuda' if torch.cuda.is_available() else 'cpu'\n",
    "optimizer = torch.optim.AdamW(model.parameters(), lr=5e-5)\n",
    "criterion = nn.CrossEntropyLoss()\n",
    "\n",
    "device"
   ]
  },
  {
   "cell_type": "code",
   "execution_count": 6,
   "id": "9136382c",
   "metadata": {},
   "outputs": [
    {
     "name": "stdout",
     "output_type": "stream",
     "text": [
      "============================= Train =============================\n",
      "147it [01:30,  1.62it/s, epoch=1/10, loss=0.009962, acc=0.717]\n",
      "16it [00:01,  8.47it/s, loss=0.015754, acc=0.802]\n",
      "\n",
      "147it [01:31,  1.61it/s, epoch=2/10, loss=0.007262, acc=0.811]\n",
      "16it [00:01,  8.47it/s, loss=0.015362, acc=0.808]\n",
      "\n",
      "147it [01:31,  1.61it/s, epoch=3/10, loss=0.005991, acc=0.849]\n",
      "16it [00:01,  8.58it/s, loss=0.016069, acc=0.836]\n",
      "\n",
      "147it [01:31,  1.61it/s, epoch=4/10, loss=0.004981, acc=0.878]\n",
      "16it [00:01,  8.32it/s, loss=0.017376, acc=0.800]\n",
      "\n",
      "147it [01:31,  1.61it/s, epoch=5/10, loss=0.003803, acc=0.914]\n",
      "16it [00:01,  8.63it/s, loss=0.018444, acc=0.802]\n",
      "\n",
      "147it [01:31,  1.61it/s, epoch=6/10, loss=0.002850, acc=0.938]\n",
      "16it [00:01,  8.55it/s, loss=0.020045, acc=0.808]\n",
      "\n",
      "147it [01:31,  1.60it/s, epoch=7/10, loss=0.002148, acc=0.955]\n",
      "16it [00:01,  8.49it/s, loss=0.021490, acc=0.818]\n",
      "\n",
      "147it [01:31,  1.60it/s, epoch=8/10, loss=0.001858, acc=0.960]\n",
      "16it [00:01,  8.59it/s, loss=0.022369, acc=0.804]\n",
      "\n",
      "147it [01:31,  1.60it/s, epoch=9/10, loss=0.001464, acc=0.968]\n",
      "16it [00:01,  8.60it/s, loss=0.025633, acc=0.790]\n",
      "\n",
      "147it [01:31,  1.61it/s, epoch=10/10, loss=0.001457, acc=0.970]\n",
      "16it [00:01,  8.56it/s, loss=0.022992, acc=0.782]\n",
      "\n"
     ]
    }
   ],
   "source": [
    "# train\n",
    "print(\"============================= Train =============================\")\n",
    "history = train(model, device, optimizer, criterion, 10, train_loader, valid_loader)"
   ]
  },
  {
   "cell_type": "code",
   "execution_count": 7,
   "id": "2e4cefbd",
   "metadata": {},
   "outputs": [
    {
     "data": {
      "image/png": "[encoded data removed]",
      "text/plain": [
       "<Figure size 432x288 with 2 Axes>"
      ]
     },
     "metadata": {
      "needs_background": "light"
     },
     "output_type": "display_data"
    }
   ],
   "source": [
    "draw_history(history)"
   ]
  },
  {
   "cell_type": "code",
   "execution_count": 8,
   "id": "bb58484a",
   "metadata": {},
   "outputs": [
    {
     "name": "stdout",
     "output_type": "stream",
     "text": [
      "============================= Test =============================\n",
      "4it [00:00, 10.10it/s, loss=0.037029, acc=0.720]\n",
      "test loss : 0.925730\n",
      "test acc : 0.720\n"
     ]
    }
   ],
   "source": [
    "# Test\n",
    "print(\"============================= Test =============================\")\n",
    "test_loss, test_acc = evaluate(model, device, criterion, test_loader)\n",
    "print(\"test loss : {:.6f}\".format(test_loss))\n",
    "print(\"test acc : {:.3f}\".format(test_acc))"
   ]
  },
  {
   "cell_type": "code",
   "execution_count": 9,
   "id": "16d7e0f9",
   "metadata": {},
   "outputs": [],
   "source": [
    "file_name = class_name+\"_RoBERTa\"\n",
    "torch.save(model, f\"models/{file_name}.pt\")\n",
    "with open(f\"models/{file_name}_history.pickle\", 'wb') as f:\n",
    "    pickle.dump(history, f, pickle.HIGHEST_PROTOCOL)"
   ]
  },
  {
   "cell_type": "markdown",
   "id": "d466d84b",
   "metadata": {},
   "source": [
    "## Model 3\n",
    "+ CLS Token\n",
    "+ Contrastive Loss 적용"
   ]
  },
  {
   "cell_type": "code",
   "execution_count": 6,
   "id": "8403adcc",
   "metadata": {},
   "outputs": [],
   "source": [
    "class ContrastiveLoss(nn.Module):\n",
    "    def __init__(self, margin=2.0):\n",
    "        super(ContrastiveLoss, self).__init__()\n",
    "        self.margin = margin\n",
    "\n",
    "    def forward(self, output1, output2, label):\n",
    "        euclidean_distance = F.pairwise_distance(output1, output2, keepdim = True)\n",
    "        loss_contrastive = torch.mean((label) * torch.pow(euclidean_distance, 2) +\n",
    "                                      (1-label) * torch.pow(torch.clamp(self.margin - euclidean_distance, min=0.0), 2))\n",
    "\n",
    "\n",
    "        return loss_contrastive\n",
    "    \n",
    "    \n",
    "class My_Contrastive_Loss(nn.Module):\n",
    "    def __init__(self, p=0.1, margin=2.0):\n",
    "        super(My_Contrastive_Loss, self).__init__()\n",
    "        \n",
    "        self.p = p\n",
    "        self.contrastive = ContrastiveLoss(margin)\n",
    "        self.base = nn.CrossEntropyLoss()\n",
    "        \n",
    "    def forward(self, y_hat, output1, output2, target, c_y):\n",
    "        return self.base(y_hat, target) + (self.p * self.contrastive(output1, output2, c_y))"
   ]
  },
  {
   "cell_type": "code",
   "execution_count": 7,
   "id": "eedccccc",
   "metadata": {},
   "outputs": [],
   "source": [
    "def calc_acc(output, label):\n",
    "    o_val, o_idx = torch.max(output, dim=-1)\n",
    "    l_val, l_idx = torch.max(label, dim=-1)\n",
    "    acc = (o_idx == l_idx).sum().item()\n",
    "    return acc\n",
    "\n",
    "def train_contrastive(model, device, optimizer, criterion, epochs, train_loader, valid_loader=None) -> dict:\n",
    "    \"\"\"\n",
    "    :param model: your model\n",
    "    :param device: your device(cuda or cpu)\n",
    "    :param optimizer: your optimizer\n",
    "    :param criterion: loss function\n",
    "    :param epoch: train epochs\n",
    "    :param train_loader: train dataset\n",
    "    :param valid_loader: valid dataset\n",
    "    :return: history dictionary that contains train_loss, train_acc, valid_loss, valid_acc as list\n",
    "    \"\"\"\n",
    "    history = {\n",
    "        'train_loss': [],\n",
    "        'train_acc': [],\n",
    "        'valid_loss': [],\n",
    "        'valid_acc': []\n",
    "    }\n",
    "    model.to(device)\n",
    "    for epoch in range(1, epochs + 1):\n",
    "        model.train()\n",
    "        train_loss = train_acc = 0\n",
    "\n",
    "        # in notebook\n",
    "        # pabr = notebook.tqdm(enumerate(train_loader), file=sys.stdout)\n",
    "\n",
    "        # in interpreter\n",
    "        pbar = tqdm(enumerate(train_loader), file=sys.stdout)\n",
    "        for batch_idx, (x, c, y) in pbar:\n",
    "            x_input_ids, x_att_mask = x[0].to(device), x[1].to(device)\n",
    "            c_input_ids, c_att_mask = c[0].to(device), c[1].to(device)\n",
    "            target, c_y = y[0].to(device), y[1].to(device)\n",
    "\n",
    "            optimizer.zero_grad()\n",
    "            predict, output1, output2 = model(x_input_ids, x_att_mask, c_input_ids, c_att_mask)\n",
    "            loss = criterion(predict, output1, output2, target, c_y)\n",
    "            acc = calc_acc(predict, target)\n",
    "            loss.backward()\n",
    "            optimizer.step()\n",
    "\n",
    "            train_loss += loss.item()\n",
    "            train_acc += acc\n",
    "\n",
    "            acc = train_acc / (batch_idx * train_loader.batch_size + len(target))\n",
    "            loss = train_loss / (batch_idx * train_loader.batch_size + len(target))\n",
    "            pbar.set_postfix(epoch=f'{epoch}/{epochs}', loss='{:.6f}, acc={:.3f}'.format(loss, acc))\n",
    "        pbar.close()\n",
    "\n",
    "        train_loss = train_loss / len(train_loader)\n",
    "        train_acc = train_acc / len(train_loader.dataset)\n",
    "\n",
    "        history['train_loss'].append(train_loss)\n",
    "        history['train_acc'].append(train_acc)\n",
    "\n",
    "        if valid_loader is not None:\n",
    "            valid_loss, valid_acc = evaluate_contrastive(model, device, criterion, valid_loader)\n",
    "\n",
    "            history['valid_loss'].append(valid_loss)\n",
    "            history['valid_acc'].append(valid_acc)\n",
    "        print()\n",
    "\n",
    "    return history\n",
    "\n",
    "\n",
    "def evaluate_contrastive(model, device, criterion, data_loader):\n",
    "    \"\"\"\n",
    "    :param model: your model\n",
    "    :param device: your device(cuda or cpu)\n",
    "    :param criterion: loss function\n",
    "    :param data_loader: valid or test Datasets\n",
    "    :return: (valid or test) loss and acc\n",
    "    \"\"\"\n",
    "    model.eval()\n",
    "    total_loss = total_acc = 0\n",
    "\n",
    "    with torch.no_grad():\n",
    "        # in notebook\n",
    "        # pabr = notebook.tqdm(enumerate(valid_loader), file=sys.stdout)\n",
    "\n",
    "        # in interpreter\n",
    "        pbar = tqdm(enumerate(data_loader), file=sys.stdout)\n",
    "\n",
    "        for batch_idx, (x, c, y) in pbar:\n",
    "            x_input_ids, x_att_mask = x[0].to(device), x[1].to(device)\n",
    "            c_input_ids, c_att_mask = c[0].to(device), c[1].to(device)\n",
    "            target, c_y = y[0].to(device), y[1].to(device)\n",
    "\n",
    "            predict, output1, output2 = model(x_input_ids, x_att_mask, c_input_ids, c_att_mask)\n",
    "            loss = criterion(predict, output1, output2, target, c_y)\n",
    "            acc = calc_acc(predict, target)\n",
    "\n",
    "            total_loss += loss.item()\n",
    "            total_acc += acc\n",
    "\n",
    "            acc = total_acc / (batch_idx * data_loader.batch_size + len(target))\n",
    "            loss = total_loss / (batch_idx * data_loader.batch_size + len(target))\n",
    "            pbar.set_postfix(loss='{:.6f}, acc={:.3f}'.format(loss, acc))\n",
    "        pbar.close()\n",
    "\n",
    "    total_loss = total_loss / len(data_loader)\n",
    "    total_acc = total_acc / len(data_loader.dataset)\n",
    "\n",
    "    return total_loss, total_acc"
   ]
  },
  {
   "cell_type": "markdown",
   "id": "432b36f7",
   "metadata": {},
   "source": [
    "### Klue BERT-base"
   ]
  },
  {
   "cell_type": "code",
   "execution_count": 6,
   "id": "64f6886c",
   "metadata": {},
   "outputs": [],
   "source": [
    "model_path = \"klue/bert-base\"\n",
    "\n",
    "train_dataset = MyDataset_Contrastive(train_x, train_y, model_path=model_path)\n",
    "valid_dataset = MyDataset_Contrastive(valid_x, valid_y, model_path=model_path)\n",
    "test_dataset = MyDataset_Contrastive(test_x, test_y, model_path=model_path)\n",
    "\n",
    "train_loader = DataLoader(train_dataset, batch_size=32)\n",
    "valid_loader = DataLoader(valid_dataset, batch_size=32)\n",
    "test_loader = DataLoader(test_dataset, batch_size=32)"
   ]
  },
  {
   "cell_type": "code",
   "execution_count": 7,
   "id": "ff56ec70",
   "metadata": {},
   "outputs": [
    {
     "name": "stderr",
     "output_type": "stream",
     "text": [
      "Some weights of the model checkpoint at klue/bert-base were not used when initializing BertModel: ['cls.predictions.decoder.weight', 'cls.predictions.bias', 'cls.predictions.transform.LayerNorm.weight', 'cls.predictions.transform.dense.bias', 'cls.predictions.transform.LayerNorm.bias', 'cls.seq_relationship.bias', 'cls.predictions.decoder.bias', 'cls.seq_relationship.weight', 'cls.predictions.transform.dense.weight']\n",
      "- This IS expected if you are initializing BertModel from the checkpoint of a model trained on another task or with another architecture (e.g. initializing a BertForSequenceClassification model from a BertForPreTraining model).\n",
      "- This IS NOT expected if you are initializing BertModel from the checkpoint of a model that you expect to be exactly identical (initializing a BertForSequenceClassification model from a BertForSequenceClassification model).\n"
     ]
    },
    {
     "data": {
      "text/plain": [
       "'cuda'"
      ]
     },
     "execution_count": 7,
     "metadata": {},
     "output_type": "execute_result"
    }
   ],
   "source": [
    "class_name = \"MyModel_3\"\n",
    "model = get_Model(class_name, model_path)\n",
    "device = 'cuda' if torch.cuda.is_available() else 'cpu'\n",
    "optimizer = torch.optim.AdamW(model.parameters(), lr=5e-5)\n",
    "criterion = My_Contrastive_Loss(p=0.1, margin=2)\n",
    "\n",
    "device"
   ]
  },
  {
   "cell_type": "code",
   "execution_count": 8,
   "id": "59796429",
   "metadata": {},
   "outputs": [
    {
     "name": "stdout",
     "output_type": "stream",
     "text": [
      "============================= Train =============================\n",
      "294it [03:11,  1.53it/s, epoch=1/10, loss=0.023857, acc=0.701]\n",
      "16it [00:03,  4.04it/s, loss=0.019541, acc=0.790]\n",
      "\n",
      "294it [03:12,  1.53it/s, epoch=2/10, loss=0.017027, acc=0.821]\n",
      "16it [00:03,  4.23it/s, loss=0.020697, acc=0.778]\n",
      "\n",
      "294it [03:12,  1.53it/s, epoch=3/10, loss=0.013688, acc=0.875]\n",
      "16it [00:03,  4.17it/s, loss=0.020444, acc=0.802]\n",
      "\n",
      "294it [03:12,  1.53it/s, epoch=4/10, loss=0.011530, acc=0.909]\n",
      "16it [00:03,  4.12it/s, loss=0.022206, acc=0.778]\n",
      "\n",
      "294it [03:13,  1.52it/s, epoch=5/10, loss=0.009413, acc=0.936]\n",
      "16it [00:03,  4.16it/s, loss=0.023550, acc=0.794]\n",
      "\n",
      "294it [03:13,  1.52it/s, epoch=6/10, loss=0.007735, acc=0.957]\n",
      "16it [00:03,  4.17it/s, loss=0.026161, acc=0.804]\n",
      "\n",
      "294it [03:13,  1.52it/s, epoch=7/10, loss=0.006843, acc=0.966]\n",
      "16it [00:03,  4.19it/s, loss=0.029541, acc=0.766]\n",
      "\n",
      "294it [03:14,  1.52it/s, epoch=8/10, loss=0.006212, acc=0.970]\n",
      "16it [00:03,  4.18it/s, loss=0.033016, acc=0.778]\n",
      "\n",
      "294it [03:14,  1.52it/s, epoch=9/10, loss=0.005296, acc=0.978]\n",
      "16it [00:03,  4.21it/s, loss=0.029750, acc=0.794]\n",
      "\n",
      "294it [03:13,  1.52it/s, epoch=10/10, loss=0.004823, acc=0.983]\n",
      "16it [00:03,  4.24it/s, loss=0.030370, acc=0.798]\n",
      "\n"
     ]
    }
   ],
   "source": [
    "# train\n",
    "print(\"============================= Train =============================\")\n",
    "history = train_contrastive(model, device, optimizer, criterion, 10, train_loader, valid_loader)"
   ]
  },
  {
   "cell_type": "code",
   "execution_count": 9,
   "id": "bafb6cca",
   "metadata": {},
   "outputs": [
    {
     "data": {
      "image/png": "[encoded data removed]",
      "text/plain": [
       "<Figure size 432x288 with 2 Axes>"
      ]
     },
     "metadata": {
      "needs_background": "light"
     },
     "output_type": "display_data"
    }
   ],
   "source": [
    "draw_history(history)"
   ]
  },
  {
   "cell_type": "code",
   "execution_count": 10,
   "id": "302c1266",
   "metadata": {},
   "outputs": [
    {
     "name": "stdout",
     "output_type": "stream",
     "text": [
      "============================= Test =============================\n",
      "4it [00:00,  4.90it/s, loss=0.039534, acc=0.850]\n",
      "test loss : 0.988348\n",
      "test acc : 0.850\n"
     ]
    }
   ],
   "source": [
    "# Test\n",
    "print(\"============================= Test =============================\")\n",
    "test_loss, test_acc = evaluate_contrastive(model, device, criterion, test_loader)\n",
    "print(\"test loss : {:.6f}\".format(test_loss))\n",
    "print(\"test acc : {:.3f}\".format(test_acc))"
   ]
  },
  {
   "cell_type": "code",
   "execution_count": 11,
   "id": "bea33f94",
   "metadata": {},
   "outputs": [],
   "source": [
    "file_name = class_name+\"_BERT\"\n",
    "torch.save(model, f\"models/{file_name}.pt\")\n",
    "with open(f\"models/{file_name}_history.pickle\", 'wb') as f:\n",
    "    pickle.dump(history, f, pickle.HIGHEST_PROTOCOL)"
   ]
  },
  {
   "cell_type": "markdown",
   "id": "76ac2e38",
   "metadata": {},
   "source": [
    "### Klue RoBerta-base"
   ]
  },
  {
   "cell_type": "code",
   "execution_count": 4,
   "id": "cc76138f",
   "metadata": {},
   "outputs": [],
   "source": [
    "model_path = \"klue/roberta-base\"\n",
    "\n",
    "train_dataset = MyDataset_Contrastive(train_x, train_y, model_path=model_path)\n",
    "valid_dataset = MyDataset_Contrastive(valid_x, valid_y, model_path=model_path)\n",
    "test_dataset = MyDataset_Contrastive(test_x, test_y, model_path=model_path)\n",
    "\n",
    "train_loader = DataLoader(train_dataset, batch_size=32)\n",
    "valid_loader = DataLoader(valid_dataset, batch_size=32)\n",
    "test_loader = DataLoader(test_dataset, batch_size=32)"
   ]
  },
  {
   "cell_type": "code",
   "execution_count": 10,
   "id": "942745bb",
   "metadata": {},
   "outputs": [
    {
     "data": {
      "text/plain": [
       "'cuda'"
      ]
     },
     "execution_count": 10,
     "metadata": {},
     "output_type": "execute_result"
    }
   ],
   "source": [
    "class_name = \"MyModel_3\"\n",
    "model = get_Model(class_name, model_path)\n",
    "device = 'cuda' if torch.cuda.is_available() else 'cpu'\n",
    "optimizer = torch.optim.AdamW(model.parameters(), lr=5e-5)\n",
    "criterion = My_Contrastive_Loss(p=0.1, margin=2)\n",
    "\n",
    "device"
   ]
  },
  {
   "cell_type": "code",
   "execution_count": 11,
   "id": "84ac2b13",
   "metadata": {},
   "outputs": [
    {
     "name": "stdout",
     "output_type": "stream",
     "text": [
      "============================= Train =============================\n",
      "294it [03:11,  1.53it/s, epoch=1/10, loss=0.023062, acc=0.731]\n",
      "16it [00:03,  4.26it/s, loss=0.021092, acc=0.774]\n",
      "\n",
      "294it [03:13,  1.52it/s, epoch=2/10, loss=0.018137, acc=0.801]\n",
      "16it [00:03,  4.14it/s, loss=0.020242, acc=0.788]\n",
      "\n",
      "294it [03:13,  1.52it/s, epoch=3/10, loss=0.016334, acc=0.839]\n",
      "16it [00:03,  4.26it/s, loss=0.020454, acc=0.782]\n",
      "\n",
      "294it [03:12,  1.52it/s, epoch=4/10, loss=0.014215, acc=0.873]\n",
      "16it [00:03,  4.22it/s, loss=0.020239, acc=0.790]\n",
      "\n",
      "294it [03:13,  1.52it/s, epoch=5/10, loss=0.012363, acc=0.896]\n",
      "16it [00:03,  4.14it/s, loss=0.021469, acc=0.800]\n",
      "\n",
      "294it [03:13,  1.52it/s, epoch=6/10, loss=0.010882, acc=0.915]\n",
      "16it [00:03,  4.24it/s, loss=0.024289, acc=0.800]\n",
      "\n",
      "294it [03:13,  1.52it/s, epoch=7/10, loss=0.010154, acc=0.929]\n",
      "16it [00:03,  4.22it/s, loss=0.024145, acc=0.812]\n",
      "\n",
      "294it [03:13,  1.52it/s, epoch=8/10, loss=0.008934, acc=0.940]\n",
      "16it [00:03,  4.25it/s, loss=0.028971, acc=0.762]\n",
      "\n",
      "294it [03:12,  1.52it/s, epoch=9/10, loss=0.007711, acc=0.954]\n",
      "16it [00:03,  4.30it/s, loss=0.034064, acc=0.752]\n",
      "\n",
      "294it [03:12,  1.53it/s, epoch=10/10, loss=0.007404, acc=0.958]\n",
      "16it [00:03,  4.23it/s, loss=0.029966, acc=0.772]\n",
      "\n"
     ]
    }
   ],
   "source": [
    "# train\n",
    "print(\"============================= Train =============================\")\n",
    "history = train_contrastive(model, device, optimizer, criterion, 10, train_loader, valid_loader)"
   ]
  },
  {
   "cell_type": "code",
   "execution_count": 12,
   "id": "93ce9842",
   "metadata": {},
   "outputs": [
    {
     "data": {
      "image/png": "[encoded data removed]",
      "text/plain": [
       "<Figure size 432x288 with 2 Axes>"
      ]
     },
     "metadata": {
      "needs_background": "light"
     },
     "output_type": "display_data"
    }
   ],
   "source": [
    "draw_history(history)"
   ]
  },
  {
   "cell_type": "code",
   "execution_count": 13,
   "id": "ef2104f6",
   "metadata": {},
   "outputs": [
    {
     "name": "stdout",
     "output_type": "stream",
     "text": [
      "============================= Test =============================\n",
      "4it [00:00,  4.94it/s, loss=0.041169, acc=0.770]\n",
      "test loss : 1.029232\n",
      "test acc : 0.770\n"
     ]
    }
   ],
   "source": [
    "# Test\n",
    "print(\"============================= Test =============================\")\n",
    "test_loss, test_acc = evaluate_contrastive(model, device, criterion, test_loader)\n",
    "print(\"test loss : {:.6f}\".format(test_loss))\n",
    "print(\"test acc : {:.3f}\".format(test_acc))"
   ]
  },
  {
   "cell_type": "code",
   "execution_count": 14,
   "id": "519f431d",
   "metadata": {},
   "outputs": [],
   "source": [
    "file_name = class_name+\"_RoBERTa\"\n",
    "torch.save(model, f\"models/{file_name}.pt\")\n",
    "with open(f\"models/{file_name}_history.pickle\", 'wb') as f:\n",
    "    pickle.dump(history, f, pickle.HIGHEST_PROTOCOL)"
   ]
  },
  {
   "cell_type": "markdown",
   "id": "e9edddd9",
   "metadata": {},
   "source": [
    "## Model 4\n",
    "+ Mean Pooling\n",
    "+ Contrastive Loss 적용"
   ]
  },
  {
   "cell_type": "code",
   "execution_count": 4,
   "id": "33132f64",
   "metadata": {},
   "outputs": [],
   "source": [
    "class ContrastiveLoss(nn.Module):\n",
    "    def __init__(self, margin=2.0):\n",
    "        super(ContrastiveLoss, self).__init__()\n",
    "        self.margin = margin\n",
    "\n",
    "    def forward(self, output1, output2, label):\n",
    "        euclidean_distance = F.pairwise_distance(output1, output2, keepdim = True)\n",
    "        loss_contrastive = torch.mean((label) * torch.pow(euclidean_distance, 2) +\n",
    "                                      (1-label) * torch.pow(torch.clamp(self.margin - euclidean_distance, min=0.0), 2))\n",
    "\n",
    "\n",
    "        return loss_contrastive\n",
    "    \n",
    "    \n",
    "class My_Contrastive_Loss(nn.Module):\n",
    "    def __init__(self, p=0.1, margin=2.0):\n",
    "        super(My_Contrastive_Loss, self).__init__()\n",
    "        \n",
    "        self.p = p\n",
    "        self.contrastive = ContrastiveLoss(margin)\n",
    "        self.base = nn.CrossEntropyLoss()\n",
    "        \n",
    "    def forward(self, y_hat, output1, output2, target, c_y):\n",
    "        return self.base(y_hat, target) + (self.p * self.contrastive(output1, output2, c_y))"
   ]
  },
  {
   "cell_type": "code",
   "execution_count": 5,
   "id": "0fbedf35",
   "metadata": {},
   "outputs": [],
   "source": [
    "def calc_acc(output, label):\n",
    "    o_val, o_idx = torch.max(output, dim=-1)\n",
    "    l_val, l_idx = torch.max(label, dim=-1)\n",
    "    acc = (o_idx == l_idx).sum().item()\n",
    "    return acc\n",
    "\n",
    "def train_contrastive(model, device, optimizer, criterion, epochs, train_loader, valid_loader=None) -> dict:\n",
    "    \"\"\"\n",
    "    :param model: your model\n",
    "    :param device: your device(cuda or cpu)\n",
    "    :param optimizer: your optimizer\n",
    "    :param criterion: loss function\n",
    "    :param epoch: train epochs\n",
    "    :param train_loader: train dataset\n",
    "    :param valid_loader: valid dataset\n",
    "    :return: history dictionary that contains train_loss, train_acc, valid_loss, valid_acc as list\n",
    "    \"\"\"\n",
    "    history = {\n",
    "        'train_loss': [],\n",
    "        'train_acc': [],\n",
    "        'valid_loss': [],\n",
    "        'valid_acc': []\n",
    "    }\n",
    "    model.to(device)\n",
    "    for epoch in range(1, epochs + 1):\n",
    "        model.train()\n",
    "        train_loss = train_acc = 0\n",
    "\n",
    "        # in notebook\n",
    "        # pabr = notebook.tqdm(enumerate(train_loader), file=sys.stdout)\n",
    "\n",
    "        # in interpreter\n",
    "        pbar = tqdm(enumerate(train_loader), file=sys.stdout)\n",
    "        for batch_idx, (x, c, y) in pbar:\n",
    "            x_input_ids, x_att_mask = x[0].to(device), x[1].to(device)\n",
    "            c_input_ids, c_att_mask = c[0].to(device), c[1].to(device)\n",
    "            target, c_y = y[0].to(device), y[1].to(device)\n",
    "\n",
    "            optimizer.zero_grad()\n",
    "            predict, output1, output2 = model(x_input_ids, x_att_mask, c_input_ids, c_att_mask)\n",
    "            loss = criterion(predict, output1, output2, target, c_y)\n",
    "            acc = calc_acc(predict, target)\n",
    "            loss.backward()\n",
    "            optimizer.step()\n",
    "\n",
    "            train_loss += loss.item()\n",
    "            train_acc += acc\n",
    "\n",
    "            acc = train_acc / (batch_idx * train_loader.batch_size + len(target))\n",
    "            loss = train_loss / (batch_idx * train_loader.batch_size + len(target))\n",
    "            pbar.set_postfix(epoch=f'{epoch}/{epochs}', loss='{:.6f}, acc={:.3f}'.format(loss, acc))\n",
    "        pbar.close()\n",
    "\n",
    "        train_loss = train_loss / len(train_loader)\n",
    "        train_acc = train_acc / len(train_loader.dataset)\n",
    "\n",
    "        history['train_loss'].append(train_loss)\n",
    "        history['train_acc'].append(train_acc)\n",
    "\n",
    "        if valid_loader is not None:\n",
    "            valid_loss, valid_acc = evaluate_contrastive(model, device, criterion, valid_loader)\n",
    "\n",
    "            history['valid_loss'].append(valid_loss)\n",
    "            history['valid_acc'].append(valid_acc)\n",
    "        print()\n",
    "\n",
    "    return history\n",
    "\n",
    "\n",
    "def evaluate_contrastive(model, device, criterion, data_loader):\n",
    "    \"\"\"\n",
    "    :param model: your model\n",
    "    :param device: your device(cuda or cpu)\n",
    "    :param criterion: loss function\n",
    "    :param data_loader: valid or test Datasets\n",
    "    :return: (valid or test) loss and acc\n",
    "    \"\"\"\n",
    "    model.eval()\n",
    "    total_loss = total_acc = 0\n",
    "\n",
    "    with torch.no_grad():\n",
    "        # in notebook\n",
    "        # pabr = notebook.tqdm(enumerate(valid_loader), file=sys.stdout)\n",
    "\n",
    "        # in interpreter\n",
    "        pbar = tqdm(enumerate(data_loader), file=sys.stdout)\n",
    "\n",
    "        for batch_idx, (x, c, y) in pbar:\n",
    "            x_input_ids, x_att_mask = x[0].to(device), x[1].to(device)\n",
    "            c_input_ids, c_att_mask = c[0].to(device), c[1].to(device)\n",
    "            target, c_y = y[0].to(device), y[1].to(device)\n",
    "\n",
    "            predict, output1, output2 = model(x_input_ids, x_att_mask, c_input_ids, c_att_mask)\n",
    "            loss = criterion(predict, output1, output2, target, c_y)\n",
    "            acc = calc_acc(predict, target)\n",
    "\n",
    "            total_loss += loss.item()\n",
    "            total_acc += acc\n",
    "\n",
    "            acc = total_acc / (batch_idx * data_loader.batch_size + len(target))\n",
    "            loss = total_loss / (batch_idx * data_loader.batch_size + len(target))\n",
    "            pbar.set_postfix(loss='{:.6f}, acc={:.3f}'.format(loss, acc))\n",
    "        pbar.close()\n",
    "\n",
    "    total_loss = total_loss / len(data_loader)\n",
    "    total_acc = total_acc / len(data_loader.dataset)\n",
    "\n",
    "    return total_loss, total_acc"
   ]
  },
  {
   "cell_type": "markdown",
   "id": "40ec5a1f",
   "metadata": {},
   "source": [
    "### Klue BERT-base"
   ]
  },
  {
   "cell_type": "code",
   "execution_count": 6,
   "id": "aea7df72",
   "metadata": {},
   "outputs": [],
   "source": [
    "model_path = \"klue/bert-base\"\n",
    "\n",
    "train_dataset = MyDataset_Contrastive(train_x, train_y, model_path=model_path)\n",
    "valid_dataset = MyDataset_Contrastive(valid_x, valid_y, model_path=model_path)\n",
    "test_dataset = MyDataset_Contrastive(test_x, test_y, model_path=model_path)\n",
    "\n",
    "train_loader = DataLoader(train_dataset, batch_size=32)\n",
    "valid_loader = DataLoader(valid_dataset, batch_size=32)\n",
    "test_loader = DataLoader(test_dataset, batch_size=32)"
   ]
  },
  {
   "cell_type": "code",
   "execution_count": 7,
   "id": "f1c1a4e4",
   "metadata": {},
   "outputs": [
    {
     "name": "stderr",
     "output_type": "stream",
     "text": [
      "Some weights of the model checkpoint at klue/bert-base were not used when initializing BertModel: ['cls.predictions.transform.dense.weight', 'cls.seq_relationship.bias', 'cls.predictions.bias', 'cls.predictions.transform.LayerNorm.weight', 'cls.predictions.transform.dense.bias', 'cls.predictions.decoder.weight', 'cls.predictions.decoder.bias', 'cls.seq_relationship.weight', 'cls.predictions.transform.LayerNorm.bias']\n",
      "- This IS expected if you are initializing BertModel from the checkpoint of a model trained on another task or with another architecture (e.g. initializing a BertForSequenceClassification model from a BertForPreTraining model).\n",
      "- This IS NOT expected if you are initializing BertModel from the checkpoint of a model that you expect to be exactly identical (initializing a BertForSequenceClassification model from a BertForSequenceClassification model).\n"
     ]
    },
    {
     "data": {
      "text/plain": [
       "'cuda'"
      ]
     },
     "execution_count": 7,
     "metadata": {},
     "output_type": "execute_result"
    }
   ],
   "source": [
    "class_name = \"MyModel_4\"\n",
    "model = get_Model(class_name, model_path)\n",
    "device = 'cuda' if torch.cuda.is_available() else 'cpu'\n",
    "optimizer = torch.optim.AdamW(model.parameters(), lr=5e-5)\n",
    "criterion = My_Contrastive_Loss(p=0.1, margin=2)\n",
    "\n",
    "device"
   ]
  },
  {
   "cell_type": "code",
   "execution_count": 8,
   "id": "99767ee5",
   "metadata": {},
   "outputs": [
    {
     "name": "stdout",
     "output_type": "stream",
     "text": [
      "============================= Train =============================\n",
      "294it [03:13,  1.52it/s, epoch=1/10, loss=0.024195, acc=0.693]\n",
      "16it [00:03,  4.17it/s, loss=0.019802, acc=0.780]\n",
      "\n",
      "294it [03:13,  1.52it/s, epoch=2/10, loss=0.017003, acc=0.818]\n",
      "16it [00:03,  4.17it/s, loss=0.019347, acc=0.786]\n",
      "\n",
      "294it [03:13,  1.52it/s, epoch=3/10, loss=0.013705, acc=0.873]\n",
      "16it [00:03,  4.24it/s, loss=0.021764, acc=0.788]\n",
      "\n",
      "294it [03:12,  1.52it/s, epoch=4/10, loss=0.011168, acc=0.908]\n",
      "16it [00:03,  4.17it/s, loss=0.023269, acc=0.778]\n",
      "\n",
      "294it [03:12,  1.53it/s, epoch=5/10, loss=0.008719, acc=0.942]\n",
      "16it [00:03,  4.20it/s, loss=0.026355, acc=0.792]\n",
      "\n",
      "294it [03:11,  1.53it/s, epoch=6/10, loss=0.007583, acc=0.954]\n",
      "16it [00:03,  4.21it/s, loss=0.026833, acc=0.808]\n",
      "\n",
      "294it [03:12,  1.53it/s, epoch=7/10, loss=0.005980, acc=0.971]\n",
      "16it [00:03,  4.12it/s, loss=0.028825, acc=0.792]\n",
      "\n",
      "294it [03:13,  1.52it/s, epoch=8/10, loss=0.005233, acc=0.979]\n",
      "16it [00:03,  4.13it/s, loss=0.034288, acc=0.784]\n",
      "\n",
      "294it [03:13,  1.52it/s, epoch=9/10, loss=0.004811, acc=0.983]\n",
      "16it [00:03,  4.21it/s, loss=0.031617, acc=0.796]\n",
      "\n",
      "294it [03:13,  1.52it/s, epoch=10/10, loss=0.004376, acc=0.987]\n",
      "16it [00:03,  4.21it/s, loss=0.034055, acc=0.784]\n",
      "\n"
     ]
    }
   ],
   "source": [
    "# train\n",
    "print(\"============================= Train =============================\")\n",
    "history = train_contrastive(model, device, optimizer, criterion, 10, train_loader, valid_loader)"
   ]
  },
  {
   "cell_type": "code",
   "execution_count": 9,
   "id": "02bfed39",
   "metadata": {},
   "outputs": [
    {
     "data": {
      "image/png": "[encoded data removed]",
      "text/plain": [
       "<Figure size 432x288 with 2 Axes>"
      ]
     },
     "metadata": {
      "needs_background": "light"
     },
     "output_type": "display_data"
    }
   ],
   "source": [
    "draw_history(history)"
   ]
  },
  {
   "cell_type": "code",
   "execution_count": 10,
   "id": "b64b80e4",
   "metadata": {},
   "outputs": [
    {
     "name": "stdout",
     "output_type": "stream",
     "text": [
      "============================= Test =============================\n",
      "4it [00:00,  5.12it/s, loss=0.053007, acc=0.780]\n",
      "test loss : 1.325180\n",
      "test acc : 0.780\n"
     ]
    }
   ],
   "source": [
    "# Test\n",
    "print(\"============================= Test =============================\")\n",
    "test_loss, test_acc = evaluate_contrastive(model, device, criterion, test_loader)\n",
    "print(\"test loss : {:.6f}\".format(test_loss))\n",
    "print(\"test acc : {:.3f}\".format(test_acc))"
   ]
  },
  {
   "cell_type": "code",
   "execution_count": 11,
   "id": "56aa9a08",
   "metadata": {},
   "outputs": [],
   "source": [
    "file_name = class_name+\"_BERT\"\n",
    "torch.save(model, f\"models/{file_name}.pt\")\n",
    "with open(f\"models/{file_name}_history.pickle\", 'wb') as f:\n",
    "    pickle.dump(history, f, pickle.HIGHEST_PROTOCOL)"
   ]
  },
  {
   "cell_type": "markdown",
   "id": "a1951ca5",
   "metadata": {},
   "source": [
    "### Klue RoBerta-base"
   ]
  },
  {
   "cell_type": "code",
   "execution_count": 6,
   "id": "a81843fc",
   "metadata": {},
   "outputs": [],
   "source": [
    "model_path = \"klue/roberta-base\"\n",
    "\n",
    "train_dataset = MyDataset_Contrastive(train_x, train_y, model_path=model_path)\n",
    "valid_dataset = MyDataset_Contrastive(valid_x, valid_y, model_path=model_path)\n",
    "test_dataset = MyDataset_Contrastive(test_x, test_y, model_path=model_path)\n",
    "\n",
    "train_loader = DataLoader(train_dataset, batch_size=32)\n",
    "valid_loader = DataLoader(valid_dataset, batch_size=32)\n",
    "test_loader = DataLoader(test_dataset, batch_size=32)"
   ]
  },
  {
   "cell_type": "code",
   "execution_count": 7,
   "id": "82ce5eca",
   "metadata": {},
   "outputs": [
    {
     "name": "stderr",
     "output_type": "stream",
     "text": [
      "Some weights of the model checkpoint at klue/roberta-base were not used when initializing RobertaModel: ['lm_head.decoder.bias', 'lm_head.decoder.weight', 'lm_head.dense.bias', 'lm_head.layer_norm.weight', 'lm_head.dense.weight', 'lm_head.layer_norm.bias', 'lm_head.bias']\n",
      "- This IS expected if you are initializing RobertaModel from the checkpoint of a model trained on another task or with another architecture (e.g. initializing a BertForSequenceClassification model from a BertForPreTraining model).\n",
      "- This IS NOT expected if you are initializing RobertaModel from the checkpoint of a model that you expect to be exactly identical (initializing a BertForSequenceClassification model from a BertForSequenceClassification model).\n",
      "Some weights of RobertaModel were not initialized from the model checkpoint at klue/roberta-base and are newly initialized: ['roberta.pooler.dense.weight', 'roberta.pooler.dense.bias']\n",
      "You should probably TRAIN this model on a down-stream task to be able to use it for predictions and inference.\n"
     ]
    },
    {
     "data": {
      "text/plain": [
       "'cuda'"
      ]
     },
     "execution_count": 7,
     "metadata": {},
     "output_type": "execute_result"
    }
   ],
   "source": [
    "class_name = \"MyModel_4\"\n",
    "model = get_Model(class_name, model_path)\n",
    "device = 'cuda' if torch.cuda.is_available() else 'cpu'\n",
    "optimizer = torch.optim.AdamW(model.parameters(), lr=5e-5)\n",
    "criterion = My_Contrastive_Loss(p=0.1, margin=2)\n",
    "\n",
    "device"
   ]
  },
  {
   "cell_type": "code",
   "execution_count": 8,
   "id": "fb4a7ff4",
   "metadata": {},
   "outputs": [
    {
     "name": "stdout",
     "output_type": "stream",
     "text": [
      "============================= Train =============================\n",
      "294it [03:11,  1.54it/s, epoch=1/10, loss=0.022256, acc=0.739]\n",
      "16it [00:03,  4.13it/s, loss=0.021060, acc=0.776]\n",
      "\n",
      "294it [03:13,  1.52it/s, epoch=2/10, loss=0.017735, acc=0.812]\n",
      "16it [00:03,  4.27it/s, loss=0.019322, acc=0.796]\n",
      "\n",
      "294it [03:13,  1.52it/s, epoch=3/10, loss=0.015283, acc=0.854]\n",
      "16it [00:03,  4.23it/s, loss=0.021642, acc=0.762]\n",
      "\n",
      "294it [03:14,  1.51it/s, epoch=4/10, loss=0.013371, acc=0.886]\n",
      "16it [00:03,  4.15it/s, loss=0.022318, acc=0.782]\n",
      "\n",
      "294it [03:14,  1.51it/s, epoch=5/10, loss=0.011594, acc=0.908]\n",
      "16it [00:03,  4.18it/s, loss=0.023889, acc=0.786]\n",
      "\n",
      "294it [03:14,  1.51it/s, epoch=6/10, loss=0.010474, acc=0.922]\n",
      "16it [00:03,  4.17it/s, loss=0.023841, acc=0.772]\n",
      "\n",
      "294it [03:14,  1.51it/s, epoch=7/10, loss=0.008894, acc=0.939]\n",
      "16it [00:03,  4.24it/s, loss=0.023346, acc=0.808]\n",
      "\n",
      "294it [03:14,  1.51it/s, epoch=8/10, loss=0.008207, acc=0.948]\n",
      "16it [00:03,  4.24it/s, loss=0.023284, acc=0.812]\n",
      "\n",
      "294it [03:14,  1.51it/s, epoch=9/10, loss=0.007194, acc=0.962]\n",
      "16it [00:03,  4.17it/s, loss=0.026696, acc=0.790]\n",
      "\n",
      "294it [03:15,  1.50it/s, epoch=10/10, loss=0.006188, acc=0.969]\n",
      "16it [00:03,  4.15it/s, loss=0.028633, acc=0.796]\n",
      "\n"
     ]
    }
   ],
   "source": [
    "# train\n",
    "print(\"============================= Train =============================\")\n",
    "history = train_contrastive(model, device, optimizer, criterion, 10, train_loader, valid_loader)"
   ]
  },
  {
   "cell_type": "code",
   "execution_count": 9,
   "id": "5e1562f7",
   "metadata": {},
   "outputs": [
    {
     "data": {
      "image/png": "[encoded data removed]",
      "text/plain": [
       "<Figure size 432x288 with 2 Axes>"
      ]
     },
     "metadata": {
      "needs_background": "light"
     },
     "output_type": "display_data"
    }
   ],
   "source": [
    "draw_history(history)"
   ]
  },
  {
   "cell_type": "code",
   "execution_count": 10,
   "id": "2efe9535",
   "metadata": {},
   "outputs": [
    {
     "name": "stdout",
     "output_type": "stream",
     "text": [
      "============================= Test =============================\n",
      "4it [00:00,  5.17it/s, loss=0.036244, acc=0.770]\n",
      "test loss : 0.906104\n",
      "test acc : 0.770\n"
     ]
    }
   ],
   "source": [
    "# Test\n",
    "print(\"============================= Test =============================\")\n",
    "test_loss, test_acc = evaluate_contrastive(model, device, criterion, test_loader)\n",
    "print(\"test loss : {:.6f}\".format(test_loss))\n",
    "print(\"test acc : {:.3f}\".format(test_acc))"
   ]
  },
  {
   "cell_type": "code",
   "execution_count": 11,
   "id": "8d1a6ee3",
   "metadata": {},
   "outputs": [],
   "source": [
    "file_name = class_name+\"_RoBERTa\"\n",
    "torch.save(model, f\"models/{file_name}.pt\")\n",
    "with open(f\"models/{file_name}_history.pickle\", 'wb') as f:\n",
    "    pickle.dump(history, f, pickle.HIGHEST_PROTOCOL)"
   ]
  },
  {
   "cell_type": "markdown",
   "id": "47a25f70",
   "metadata": {},
   "source": [
    "## Model 5\n",
    "+ CLS Token\n",
    "+ Triplet Loss 적용"
   ]
  },
  {
   "cell_type": "code",
   "execution_count": 4,
   "id": "973bc339",
   "metadata": {},
   "outputs": [],
   "source": [
    "class TripletLoss(nn.Module):\n",
    "    def __init__(self, margin = 1.0):\n",
    "        super(TripletLoss, self).__init__()\n",
    "        self.margin = margin\n",
    "        \n",
    "    def calc_euclidean(self, x1, x2):\n",
    "        return (x1-x2).pow(2).sum(1) \n",
    "    \n",
    "    def forward(self,  anchor: torch.Tensor, positive: torch.Tensor, negative: torch.Tensor):\n",
    "        \n",
    "        distance_positive = self.calc_euclidean(anchor, positive)\n",
    "        distance_negative = self.calc_euclidean(anchor, negative)\n",
    "        losses = torch.relu(distance_positive - distance_negative + self.margin)\n",
    "\n",
    "        return losses.mean()\n",
    "\n",
    "class My_Triplet_Loss(nn.Module):\n",
    "    def __init__(self, p=0.1, margin=2.0):\n",
    "        super(My_Triplet_Loss, self).__init__()\n",
    "        \n",
    "        self.p = p\n",
    "        self.triplet = TripletLoss(margin=1.0)\n",
    "        self.CE = nn.CrossEntropyLoss()\n",
    "        \n",
    "    def forward(self, predict, x_embed, p_embed, n_embed, target):\n",
    "        triplet = self.triplet(x_embed, p_embed, n_embed)\n",
    "        ce = self.CE(predict, target)\n",
    "        return ce + (self.p * triplet)"
   ]
  },
  {
   "cell_type": "code",
   "execution_count": 5,
   "id": "be28861d",
   "metadata": {},
   "outputs": [],
   "source": [
    "def calc_acc(output, label):\n",
    "    o_val, o_idx = torch.max(output, dim=-1)\n",
    "    l_val, l_idx = torch.max(label, dim=-1)\n",
    "    acc = (o_idx == l_idx).sum().item()\n",
    "    return acc\n",
    "\n",
    "def train_triplet(model, device, optimizer, criterion, epochs, train_loader, valid_loader=None) -> dict:\n",
    "    \"\"\"\n",
    "    :param model: your model\n",
    "    :param device: your device(cuda or cpu)\n",
    "    :param optimizer: your optimizer\n",
    "    :param criterion: loss function\n",
    "    :param epoch: train epochs\n",
    "    :param train_loader: train dataset\n",
    "    :param valid_loader: valid dataset\n",
    "    :return: history dictionary that contains train_loss, train_acc, valid_loss, valid_acc as list\n",
    "    \"\"\"\n",
    "    history = {\n",
    "        'train_loss': [],\n",
    "        'train_acc': [],\n",
    "        'valid_loss': [],\n",
    "        'valid_acc': []\n",
    "    }\n",
    "    model.to(device)\n",
    "    for epoch in range(1, epochs + 1):\n",
    "        model.train()\n",
    "        train_loss = train_acc = 0\n",
    "\n",
    "        # in notebook\n",
    "        # pabr = notebook.tqdm(enumerate(train_loader), file=sys.stdout)\n",
    "\n",
    "        # in interpreter\n",
    "        pbar = tqdm(enumerate(train_loader), file=sys.stdout)\n",
    "        for batch_idx, (x, p, n, target) in pbar:\n",
    "            anchor_inputs, anchor_atts = x[0].to(device), x[1].to(device)\n",
    "            p_inputs, p_atts = p[0].to(device), p[1].to(device)\n",
    "            n_inputs, n_atts = n[0].to(device), n[1].to(device)\n",
    "            target = target.to(device)\n",
    "            \n",
    "            optimizer.zero_grad()\n",
    "            predict, anchor, pos, neg = model(anchor_inputs, anchor_atts,\n",
    "                                             p_inputs, p_atts, n_inputs, n_atts)\n",
    "            loss = criterion(predict, anchor, pos, neg, target)\n",
    "            acc = calc_acc(predict, target)\n",
    "            loss.backward()\n",
    "            optimizer.step()\n",
    "\n",
    "            train_loss += loss.item()\n",
    "            train_acc += acc\n",
    "\n",
    "            acc = train_acc / (batch_idx * train_loader.batch_size + len(target))\n",
    "            loss = train_loss / (batch_idx * train_loader.batch_size + len(target))\n",
    "            pbar.set_postfix(epoch=f'{epoch}/{epochs}', loss='{:.6f}, acc={:.3f}'.format(loss, acc))\n",
    "        pbar.close()\n",
    "\n",
    "        train_loss = train_loss / len(train_loader)\n",
    "        train_acc = train_acc / len(train_loader.dataset)\n",
    "\n",
    "        history['train_loss'].append(train_loss)\n",
    "        history['train_acc'].append(train_acc)\n",
    "\n",
    "        if valid_loader is not None:\n",
    "            valid_loss, valid_acc = evaluate_triplet(model, device, criterion, valid_loader)\n",
    "\n",
    "            history['valid_loss'].append(valid_loss)\n",
    "            history['valid_acc'].append(valid_acc)\n",
    "        print()\n",
    "\n",
    "    return history\n",
    "\n",
    "\n",
    "def evaluate_triplet(model, device, criterion, data_loader):\n",
    "    \"\"\"\n",
    "    :param model: your model\n",
    "    :param device: your device(cuda or cpu)\n",
    "    :param criterion: loss function\n",
    "    :param data_loader: valid or test Datasets\n",
    "    :return: (valid or test) loss and acc\n",
    "    \"\"\"\n",
    "    model.eval()\n",
    "    total_loss = total_acc = 0\n",
    "\n",
    "    with torch.no_grad():\n",
    "        # in notebook\n",
    "        # pabr = notebook.tqdm(enumerate(valid_loader), file=sys.stdout)\n",
    "\n",
    "        # in interpreter\n",
    "        pbar = tqdm(enumerate(data_loader), file=sys.stdout)\n",
    "\n",
    "        for batch_idx, (x, p, n, target) in pbar:\n",
    "            anchor_inputs, anchor_atts = x[0].to(device), x[1].to(device)\n",
    "            p_inputs, p_atts = p[0].to(device), p[1].to(device)\n",
    "            n_inputs, n_atts = n[0].to(device), n[1].to(device)\n",
    "            target = target.to(device)\n",
    "\n",
    "            predict, anchor, pos, neg = model(anchor_inputs, anchor_atts,\n",
    "                                             p_inputs, p_atts, n_inputs, n_atts)\n",
    "            loss = criterion(predict, anchor, pos, neg, target)\n",
    "            acc = calc_acc(predict, target)\n",
    "\n",
    "            total_loss += loss.item()\n",
    "            total_acc += acc\n",
    "\n",
    "            acc = total_acc / (batch_idx * data_loader.batch_size + len(target))\n",
    "            loss = total_loss / (batch_idx * data_loader.batch_size + len(target))\n",
    "            pbar.set_postfix(loss='{:.6f}, acc={:.3f}'.format(loss, acc))\n",
    "        pbar.close()\n",
    "\n",
    "    total_loss = total_loss / len(data_loader)\n",
    "    total_acc = total_acc / len(data_loader.dataset)\n",
    "\n",
    "    return total_loss, total_acc"
   ]
  },
  {
   "cell_type": "markdown",
   "id": "80106918",
   "metadata": {},
   "source": [
    "### Klue BERT-base"
   ]
  },
  {
   "cell_type": "code",
   "execution_count": 6,
   "id": "75e2f8fb",
   "metadata": {},
   "outputs": [],
   "source": [
    "model_path = \"klue/bert-base\"\n",
    "\n",
    "train_dataset = MyDataset_Triplet(train_x, train_y, model_path=model_path)\n",
    "valid_dataset = MyDataset_Triplet(valid_x, valid_y, model_path=model_path)\n",
    "test_dataset = MyDataset_Triplet(test_x, test_y, model_path=model_path)\n",
    "\n",
    "train_loader = DataLoader(train_dataset, batch_size=32)\n",
    "valid_loader = DataLoader(valid_dataset, batch_size=32)\n",
    "test_loader = DataLoader(test_dataset, batch_size=32)"
   ]
  },
  {
   "cell_type": "code",
   "execution_count": 7,
   "id": "861336a1",
   "metadata": {},
   "outputs": [
    {
     "name": "stderr",
     "output_type": "stream",
     "text": [
      "Some weights of the model checkpoint at klue/bert-base were not used when initializing BertModel: ['cls.predictions.bias', 'cls.predictions.transform.dense.bias', 'cls.predictions.decoder.bias', 'cls.predictions.transform.LayerNorm.weight', 'cls.predictions.decoder.weight', 'cls.seq_relationship.weight', 'cls.seq_relationship.bias', 'cls.predictions.transform.LayerNorm.bias', 'cls.predictions.transform.dense.weight']\n",
      "- This IS expected if you are initializing BertModel from the checkpoint of a model trained on another task or with another architecture (e.g. initializing a BertForSequenceClassification model from a BertForPreTraining model).\n",
      "- This IS NOT expected if you are initializing BertModel from the checkpoint of a model that you expect to be exactly identical (initializing a BertForSequenceClassification model from a BertForSequenceClassification model).\n"
     ]
    },
    {
     "data": {
      "text/plain": [
       "'cuda'"
      ]
     },
     "execution_count": 7,
     "metadata": {},
     "output_type": "execute_result"
    }
   ],
   "source": [
    "class_name = \"MyModel_5\"\n",
    "model = get_Model(class_name, model_path)\n",
    "device = 'cuda' if torch.cuda.is_available() else 'cpu'\n",
    "optimizer = torch.optim.AdamW(model.parameters(), lr=5e-5)\n",
    "criterion = My_Triplet_Loss(p=0.1, margin=2)\n",
    "\n",
    "device"
   ]
  },
  {
   "cell_type": "code",
   "execution_count": 8,
   "id": "2e804d79",
   "metadata": {},
   "outputs": [
    {
     "name": "stdout",
     "output_type": "stream",
     "text": [
      "============================= Train =============================\n",
      "294it [04:52,  1.00it/s, epoch=1/10, loss=0.021876, acc=0.723]\n",
      "16it [00:05,  2.82it/s, loss=0.017896, acc=0.782]\n",
      "\n",
      "294it [04:55,  1.01s/it, epoch=2/10, loss=0.015164, acc=0.826]\n",
      "16it [00:05,  2.81it/s, loss=0.017106, acc=0.810]\n",
      "\n",
      "294it [04:55,  1.00s/it, epoch=3/10, loss=0.011435, acc=0.880]\n",
      "16it [00:05,  2.81it/s, loss=0.019729, acc=0.804]\n",
      "\n",
      "294it [04:56,  1.01s/it, epoch=4/10, loss=0.008321, acc=0.919]\n",
      "16it [00:05,  2.79it/s, loss=0.022338, acc=0.796]\n",
      "\n",
      "294it [04:56,  1.01s/it, epoch=5/10, loss=0.005972, acc=0.944]\n",
      "16it [00:05,  2.80it/s, loss=0.024982, acc=0.794]\n",
      "\n",
      "294it [04:56,  1.01s/it, epoch=6/10, loss=0.004648, acc=0.958]\n",
      "16it [00:05,  2.81it/s, loss=0.026375, acc=0.780]\n",
      "\n",
      "294it [04:56,  1.01s/it, epoch=7/10, loss=0.002966, acc=0.976]\n",
      "16it [00:05,  2.77it/s, loss=0.032201, acc=0.754]\n",
      "\n",
      "294it [04:55,  1.01s/it, epoch=8/10, loss=0.002500, acc=0.978]\n",
      "16it [00:05,  2.78it/s, loss=0.029028, acc=0.794]\n",
      "\n",
      "294it [04:54,  1.00s/it, epoch=9/10, loss=0.001770, acc=0.986]\n",
      "16it [00:05,  2.82it/s, loss=0.027908, acc=0.794]\n",
      "\n",
      "294it [04:55,  1.01s/it, epoch=10/10, loss=0.001746, acc=0.985]\n",
      "16it [00:05,  2.81it/s, loss=0.033088, acc=0.808]\n",
      "\n"
     ]
    }
   ],
   "source": [
    "# train\n",
    "print(\"============================= Train =============================\")\n",
    "history = train_triplet(model, device, optimizer, criterion, 10, train_loader, valid_loader)"
   ]
  },
  {
   "cell_type": "code",
   "execution_count": 9,
   "id": "b38d8ac7",
   "metadata": {},
   "outputs": [
    {
     "data": {
      "image/png": "[encoded data removed]",
      "text/plain": [
       "<Figure size 432x288 with 2 Axes>"
      ]
     },
     "metadata": {
      "needs_background": "light"
     },
     "output_type": "display_data"
    }
   ],
   "source": [
    "draw_history(history)"
   ]
  },
  {
   "cell_type": "code",
   "execution_count": 10,
   "id": "6f70516c",
   "metadata": {},
   "outputs": [
    {
     "name": "stdout",
     "output_type": "stream",
     "text": [
      "============================= Test =============================\n",
      "4it [00:01,  3.45it/s, loss=0.043224, acc=0.810]\n",
      "test loss : 1.080606\n",
      "test acc : 0.810\n"
     ]
    }
   ],
   "source": [
    "# Test\n",
    "print(\"============================= Test =============================\")\n",
    "test_loss, test_acc = evaluate_triplet(model, device, criterion, test_loader)\n",
    "print(\"test loss : {:.6f}\".format(test_loss))\n",
    "print(\"test acc : {:.3f}\".format(test_acc))"
   ]
  },
  {
   "cell_type": "code",
   "execution_count": 11,
   "id": "0bfbfdcd",
   "metadata": {},
   "outputs": [],
   "source": [
    "file_name = class_name+\"_BERT\"\n",
    "torch.save(model, f\"models/{file_name}.pt\")\n",
    "with open(f\"models/{file_name}_history.pickle\", 'wb') as f:\n",
    "    pickle.dump(history, f, pickle.HIGHEST_PROTOCOL)"
   ]
  },
  {
   "cell_type": "markdown",
   "id": "e4c1f930",
   "metadata": {},
   "source": [
    "### Klue RoBerta-base"
   ]
  },
  {
   "cell_type": "code",
   "execution_count": 6,
   "id": "9ee0fcaa",
   "metadata": {},
   "outputs": [],
   "source": [
    "model_path = \"klue/roberta-base\"\n",
    "\n",
    "train_dataset = MyDataset_Triplet(train_x, train_y, model_path=model_path)\n",
    "valid_dataset = MyDataset_Triplet(valid_x, valid_y, model_path=model_path)\n",
    "test_dataset = MyDataset_Triplet(test_x, test_y, model_path=model_path)\n",
    "\n",
    "train_loader = DataLoader(train_dataset, batch_size=32)\n",
    "valid_loader = DataLoader(valid_dataset, batch_size=32)\n",
    "test_loader = DataLoader(test_dataset, batch_size=32)"
   ]
  },
  {
   "cell_type": "code",
   "execution_count": 7,
   "id": "e7e2b281",
   "metadata": {},
   "outputs": [
    {
     "name": "stderr",
     "output_type": "stream",
     "text": [
      "Some weights of the model checkpoint at klue/roberta-base were not used when initializing RobertaModel: ['lm_head.dense.bias', 'lm_head.bias', 'lm_head.layer_norm.bias', 'lm_head.decoder.bias', 'lm_head.layer_norm.weight', 'lm_head.decoder.weight', 'lm_head.dense.weight']\n",
      "- This IS expected if you are initializing RobertaModel from the checkpoint of a model trained on another task or with another architecture (e.g. initializing a BertForSequenceClassification model from a BertForPreTraining model).\n",
      "- This IS NOT expected if you are initializing RobertaModel from the checkpoint of a model that you expect to be exactly identical (initializing a BertForSequenceClassification model from a BertForSequenceClassification model).\n",
      "Some weights of RobertaModel were not initialized from the model checkpoint at klue/roberta-base and are newly initialized: ['roberta.pooler.dense.bias', 'roberta.pooler.dense.weight']\n",
      "You should probably TRAIN this model on a down-stream task to be able to use it for predictions and inference.\n"
     ]
    },
    {
     "data": {
      "text/plain": [
       "'cuda'"
      ]
     },
     "execution_count": 7,
     "metadata": {},
     "output_type": "execute_result"
    }
   ],
   "source": [
    "class_name = \"MyModel_5\"\n",
    "model = get_Model(class_name, model_path)\n",
    "device = 'cuda' if torch.cuda.is_available() else 'cpu'\n",
    "optimizer = torch.optim.AdamW(model.parameters(), lr=5e-5)\n",
    "criterion = My_Triplet_Loss(p=0.1, margin=2)\n",
    "\n",
    "device"
   ]
  },
  {
   "cell_type": "code",
   "execution_count": 8,
   "id": "83fa86aa",
   "metadata": {},
   "outputs": [
    {
     "name": "stdout",
     "output_type": "stream",
     "text": [
      "============================= Train =============================\n",
      "294it [04:54,  1.00s/it, epoch=1/10, loss=0.022813, acc=0.715]\n",
      "16it [00:05,  2.84it/s, loss=0.018997, acc=0.772]\n",
      "\n",
      "294it [04:55,  1.01s/it, epoch=2/10, loss=0.016521, acc=0.811]\n",
      "16it [00:05,  2.86it/s, loss=0.017110, acc=0.804]\n",
      "\n",
      "294it [04:54,  1.00s/it, epoch=3/10, loss=0.014000, acc=0.847]\n",
      "16it [00:05,  2.86it/s, loss=0.018080, acc=0.802]\n",
      "\n",
      "294it [04:54,  1.00s/it, epoch=4/10, loss=0.011349, acc=0.884]\n",
      "16it [00:05,  2.84it/s, loss=0.020450, acc=0.784]\n",
      "\n",
      "294it [04:54,  1.00s/it, epoch=5/10, loss=0.009777, acc=0.904]\n",
      "16it [00:05,  2.86it/s, loss=0.020710, acc=0.776]\n",
      "\n",
      "294it [04:54,  1.00s/it, epoch=6/10, loss=0.008318, acc=0.919]\n",
      "16it [00:05,  2.86it/s, loss=0.018744, acc=0.828]\n",
      "\n",
      "294it [04:55,  1.00s/it, epoch=7/10, loss=0.006226, acc=0.943]\n",
      "16it [00:05,  2.82it/s, loss=0.023942, acc=0.772]\n",
      "\n",
      "294it [04:55,  1.00s/it, epoch=8/10, loss=0.005583, acc=0.950]\n",
      "16it [00:05,  2.86it/s, loss=0.030279, acc=0.774]\n",
      "\n",
      "294it [04:54,  1.00s/it, epoch=9/10, loss=0.004616, acc=0.959]\n",
      "16it [00:05,  2.87it/s, loss=0.025647, acc=0.798]\n",
      "\n",
      "294it [04:54,  1.00s/it, epoch=10/10, loss=0.003733, acc=0.968]\n",
      "16it [00:05,  2.87it/s, loss=0.026861, acc=0.770]\n",
      "\n"
     ]
    }
   ],
   "source": [
    "# train\n",
    "print(\"============================= Train =============================\")\n",
    "history = train_triplet(model, device, optimizer, criterion, 10, train_loader, valid_loader)"
   ]
  },
  {
   "cell_type": "code",
   "execution_count": 9,
   "id": "e02d9d41",
   "metadata": {},
   "outputs": [
    {
     "data": {
      "image/png": "[encoded data removed]",
      "text/plain": [
       "<Figure size 432x288 with 2 Axes>"
      ]
     },
     "metadata": {
      "needs_background": "light"
     },
     "output_type": "display_data"
    }
   ],
   "source": [
    "draw_history(history)"
   ]
  },
  {
   "cell_type": "code",
   "execution_count": 10,
   "id": "3907b070",
   "metadata": {},
   "outputs": [
    {
     "name": "stdout",
     "output_type": "stream",
     "text": [
      "============================= Test =============================\n",
      "4it [00:01,  3.48it/s, loss=0.040096, acc=0.750]\n",
      "test loss : 1.002398\n",
      "test acc : 0.750\n"
     ]
    }
   ],
   "source": [
    "# Test\n",
    "print(\"============================= Test =============================\")\n",
    "test_loss, test_acc = evaluate_triplet(model, device, criterion, test_loader)\n",
    "print(\"test loss : {:.6f}\".format(test_loss))\n",
    "print(\"test acc : {:.3f}\".format(test_acc))"
   ]
  },
  {
   "cell_type": "code",
   "execution_count": 11,
   "id": "fb571195",
   "metadata": {},
   "outputs": [],
   "source": [
    "file_name = class_name+\"_RoBERTa\"\n",
    "torch.save(model, f\"models/{file_name}.pt\")\n",
    "with open(f\"models/{file_name}_history.pickle\", 'wb') as f:\n",
    "    pickle.dump(history, f, pickle.HIGHEST_PROTOCOL)"
   ]
  },
  {
   "cell_type": "markdown",
   "id": "c12315d8",
   "metadata": {},
   "source": [
    "## Model 6\n",
    "+ Mean Pooling\n",
    "+ Triplet Loss 적용"
   ]
  },
  {
   "cell_type": "code",
   "execution_count": 4,
   "id": "796019ff",
   "metadata": {},
   "outputs": [],
   "source": [
    "class TripletLoss(nn.Module):\n",
    "    def __init__(self, margin = 1.0):\n",
    "        super(TripletLoss, self).__init__()\n",
    "        self.margin = margin\n",
    "        \n",
    "    def calc_euclidean(self, x1, x2):\n",
    "        return (x1-x2).pow(2).sum(1) \n",
    "    \n",
    "    def forward(self,  anchor: torch.Tensor, positive: torch.Tensor, negative: torch.Tensor):\n",
    "        \n",
    "        distance_positive = self.calc_euclidean(anchor, positive)\n",
    "        distance_negative = self.calc_euclidean(anchor, negative)\n",
    "        losses = torch.relu(distance_positive - distance_negative + self.margin)\n",
    "\n",
    "        return losses.mean()\n",
    "\n",
    "class My_Triplet_Loss(nn.Module):\n",
    "    def __init__(self, p=0.1, margin=2.0):\n",
    "        super(My_Triplet_Loss, self).__init__()\n",
    "        \n",
    "        self.p = p\n",
    "        self.triplet = TripletLoss(margin=1.0)\n",
    "        self.CE = nn.CrossEntropyLoss()\n",
    "        \n",
    "    def forward(self, predict, x_embed, p_embed, n_embed, target):\n",
    "        triplet = self.triplet(x_embed, p_embed, n_embed)\n",
    "        ce = self.CE(predict, target)\n",
    "        return ce + (self.p * triplet)"
   ]
  },
  {
   "cell_type": "code",
   "execution_count": 5,
   "id": "a4704a5a",
   "metadata": {},
   "outputs": [],
   "source": [
    "def calc_acc(output, label):\n",
    "    o_val, o_idx = torch.max(output, dim=-1)\n",
    "    l_val, l_idx = torch.max(label, dim=-1)\n",
    "    acc = (o_idx == l_idx).sum().item()\n",
    "    return acc\n",
    "\n",
    "def train_triplet(model, device, optimizer, criterion, epochs, train_loader, valid_loader=None) -> dict:\n",
    "    \"\"\"\n",
    "    :param model: your model\n",
    "    :param device: your device(cuda or cpu)\n",
    "    :param optimizer: your optimizer\n",
    "    :param criterion: loss function\n",
    "    :param epoch: train epochs\n",
    "    :param train_loader: train dataset\n",
    "    :param valid_loader: valid dataset\n",
    "    :return: history dictionary that contains train_loss, train_acc, valid_loss, valid_acc as list\n",
    "    \"\"\"\n",
    "    history = {\n",
    "        'train_loss': [],\n",
    "        'train_acc': [],\n",
    "        'valid_loss': [],\n",
    "        'valid_acc': []\n",
    "    }\n",
    "    model.to(device)\n",
    "    for epoch in range(1, epochs + 1):\n",
    "        model.train()\n",
    "        train_loss = train_acc = 0\n",
    "\n",
    "        # in notebook\n",
    "        # pabr = notebook.tqdm(enumerate(train_loader), file=sys.stdout)\n",
    "\n",
    "        # in interpreter\n",
    "        pbar = tqdm(enumerate(train_loader), file=sys.stdout)\n",
    "        for batch_idx, (x, p, n, target) in pbar:\n",
    "            anchor_inputs, anchor_atts = x[0].to(device), x[1].to(device)\n",
    "            p_inputs, p_atts = p[0].to(device), p[1].to(device)\n",
    "            n_inputs, n_atts = n[0].to(device), n[1].to(device)\n",
    "            target = target.to(device)\n",
    "            \n",
    "            optimizer.zero_grad()\n",
    "            predict, anchor, pos, neg = model(anchor_inputs, anchor_atts,\n",
    "                                             p_inputs, p_atts, n_inputs, n_atts)\n",
    "            loss = criterion(predict, anchor, pos, neg, target)\n",
    "            acc = calc_acc(predict, target)\n",
    "            loss.backward()\n",
    "            optimizer.step()\n",
    "\n",
    "            train_loss += loss.item()\n",
    "            train_acc += acc\n",
    "\n",
    "            acc = train_acc / (batch_idx * train_loader.batch_size + len(target))\n",
    "            loss = train_loss / (batch_idx * train_loader.batch_size + len(target))\n",
    "            pbar.set_postfix(epoch=f'{epoch}/{epochs}', loss='{:.6f}, acc={:.3f}'.format(loss, acc))\n",
    "        pbar.close()\n",
    "\n",
    "        train_loss = train_loss / len(train_loader)\n",
    "        train_acc = train_acc / len(train_loader.dataset)\n",
    "\n",
    "        history['train_loss'].append(train_loss)\n",
    "        history['train_acc'].append(train_acc)\n",
    "\n",
    "        if valid_loader is not None:\n",
    "            valid_loss, valid_acc = evaluate_triplet(model, device, criterion, valid_loader)\n",
    "\n",
    "            history['valid_loss'].append(valid_loss)\n",
    "            history['valid_acc'].append(valid_acc)\n",
    "        print()\n",
    "\n",
    "    return history\n",
    "\n",
    "\n",
    "def evaluate_triplet(model, device, criterion, data_loader):\n",
    "    \"\"\"\n",
    "    :param model: your model\n",
    "    :param device: your device(cuda or cpu)\n",
    "    :param criterion: loss function\n",
    "    :param data_loader: valid or test Datasets\n",
    "    :return: (valid or test) loss and acc\n",
    "    \"\"\"\n",
    "    model.eval()\n",
    "    total_loss = total_acc = 0\n",
    "\n",
    "    with torch.no_grad():\n",
    "        # in notebook\n",
    "        # pabr = notebook.tqdm(enumerate(valid_loader), file=sys.stdout)\n",
    "\n",
    "        # in interpreter\n",
    "        pbar = tqdm(enumerate(data_loader), file=sys.stdout)\n",
    "\n",
    "        for batch_idx, (x, p, n, target) in pbar:\n",
    "            anchor_inputs, anchor_atts = x[0].to(device), x[1].to(device)\n",
    "            p_inputs, p_atts = p[0].to(device), p[1].to(device)\n",
    "            n_inputs, n_atts = n[0].to(device), n[1].to(device)\n",
    "            target = target.to(device)\n",
    "\n",
    "            predict, anchor, pos, neg = model(anchor_inputs, anchor_atts,\n",
    "                                             p_inputs, p_atts, n_inputs, n_atts)\n",
    "            loss = criterion(predict, anchor, pos, neg, target)\n",
    "            acc = calc_acc(predict, target)\n",
    "\n",
    "            total_loss += loss.item()\n",
    "            total_acc += acc\n",
    "\n",
    "            acc = total_acc / (batch_idx * data_loader.batch_size + len(target))\n",
    "            loss = total_loss / (batch_idx * data_loader.batch_size + len(target))\n",
    "            pbar.set_postfix(loss='{:.6f}, acc={:.3f}'.format(loss, acc))\n",
    "        pbar.close()\n",
    "\n",
    "    total_loss = total_loss / len(data_loader)\n",
    "    total_acc = total_acc / len(data_loader.dataset)\n",
    "\n",
    "    return total_loss, total_acc"
   ]
  },
  {
   "cell_type": "markdown",
   "id": "ece9efc5",
   "metadata": {},
   "source": [
    "### Klue BERT-base"
   ]
  },
  {
   "cell_type": "code",
   "execution_count": 6,
   "id": "6d1a3f0f",
   "metadata": {},
   "outputs": [],
   "source": [
    "model_path = \"klue/bert-base\"\n",
    "\n",
    "train_dataset = MyDataset_Triplet(train_x, train_y, model_path=model_path)\n",
    "valid_dataset = MyDataset_Triplet(valid_x, valid_y, model_path=model_path)\n",
    "test_dataset = MyDataset_Triplet(test_x, test_y, model_path=model_path)\n",
    "\n",
    "train_loader = DataLoader(train_dataset, batch_size=32)\n",
    "valid_loader = DataLoader(valid_dataset, batch_size=32)\n",
    "test_loader = DataLoader(test_dataset, batch_size=32)"
   ]
  },
  {
   "cell_type": "code",
   "execution_count": 7,
   "id": "8c74a4da",
   "metadata": {},
   "outputs": [
    {
     "name": "stderr",
     "output_type": "stream",
     "text": [
      "Some weights of the model checkpoint at klue/bert-base were not used when initializing BertModel: ['cls.predictions.transform.dense.weight', 'cls.predictions.bias', 'cls.predictions.transform.LayerNorm.bias', 'cls.seq_relationship.bias', 'cls.predictions.decoder.weight', 'cls.seq_relationship.weight', 'cls.predictions.transform.LayerNorm.weight', 'cls.predictions.decoder.bias', 'cls.predictions.transform.dense.bias']\n",
      "- This IS expected if you are initializing BertModel from the checkpoint of a model trained on another task or with another architecture (e.g. initializing a BertForSequenceClassification model from a BertForPreTraining model).\n",
      "- This IS NOT expected if you are initializing BertModel from the checkpoint of a model that you expect to be exactly identical (initializing a BertForSequenceClassification model from a BertForSequenceClassification model).\n"
     ]
    },
    {
     "data": {
      "text/plain": [
       "'cuda'"
      ]
     },
     "execution_count": 7,
     "metadata": {},
     "output_type": "execute_result"
    }
   ],
   "source": [
    "class_name = \"MyModel_6\"\n",
    "model = get_Model(class_name, model_path)\n",
    "device = 'cuda' if torch.cuda.is_available() else 'cpu'\n",
    "optimizer = torch.optim.AdamW(model.parameters(), lr=5e-5)\n",
    "criterion = My_Triplet_Loss(p=0.1, margin=2)\n",
    "\n",
    "device"
   ]
  },
  {
   "cell_type": "code",
   "execution_count": 8,
   "id": "d61ff517",
   "metadata": {},
   "outputs": [
    {
     "name": "stdout",
     "output_type": "stream",
     "text": [
      "============================= Train =============================\n",
      "294it [04:57,  1.01s/it, epoch=1/10, loss=0.021607, acc=0.727]\n",
      "16it [00:06,  2.66it/s, loss=0.018853, acc=0.780]\n",
      "\n",
      "294it [05:01,  1.03s/it, epoch=2/10, loss=0.014444, acc=0.832]\n",
      "16it [00:05,  2.75it/s, loss=0.018142, acc=0.776]\n",
      "\n",
      "294it [05:04,  1.03s/it, epoch=3/10, loss=0.010067, acc=0.891]\n",
      "16it [00:05,  2.72it/s, loss=0.021393, acc=0.772]\n",
      "\n",
      "294it [05:03,  1.03s/it, epoch=4/10, loss=0.006540, acc=0.937]\n",
      "16it [00:05,  2.72it/s, loss=0.025344, acc=0.804]\n",
      "\n",
      "294it [05:03,  1.03s/it, epoch=5/10, loss=0.005045, acc=0.951]\n",
      "16it [00:05,  2.76it/s, loss=0.027507, acc=0.749]\n",
      "\n",
      "294it [05:00,  1.02s/it, epoch=6/10, loss=0.003865, acc=0.964]\n",
      "16it [00:05,  2.71it/s, loss=0.029126, acc=0.784]\n",
      "\n",
      "294it [05:01,  1.03s/it, epoch=7/10, loss=0.002575, acc=0.975]\n",
      "16it [00:05,  2.74it/s, loss=0.030636, acc=0.794]\n",
      "\n",
      "294it [04:59,  1.02s/it, epoch=8/10, loss=0.001669, acc=0.985]\n",
      "16it [00:05,  2.76it/s, loss=0.032602, acc=0.796]\n",
      "\n",
      "294it [04:58,  1.01s/it, epoch=9/10, loss=0.001304, acc=0.988]\n",
      "16it [00:05,  2.72it/s, loss=0.037953, acc=0.786]\n",
      "\n",
      "294it [04:57,  1.01s/it, epoch=10/10, loss=0.001271, acc=0.988]\n",
      "16it [00:05,  2.77it/s, loss=0.036773, acc=0.802]\n",
      "\n"
     ]
    }
   ],
   "source": [
    "# train\n",
    "print(\"============================= Train =============================\")\n",
    "history = train_triplet(model, device, optimizer, criterion, 10, train_loader, valid_loader)"
   ]
  },
  {
   "cell_type": "code",
   "execution_count": 9,
   "id": "cf92967c",
   "metadata": {},
   "outputs": [
    {
     "data": {
      "image/png": "[encoded data removed]",
      "text/plain": [
       "<Figure size 432x288 with 2 Axes>"
      ]
     },
     "metadata": {
      "needs_background": "light"
     },
     "output_type": "display_data"
    }
   ],
   "source": [
    "draw_history(history)"
   ]
  },
  {
   "cell_type": "code",
   "execution_count": 10,
   "id": "63923eb0",
   "metadata": {},
   "outputs": [
    {
     "name": "stdout",
     "output_type": "stream",
     "text": [
      "============================= Test =============================\n",
      "4it [00:01,  3.31it/s, loss=0.063592, acc=0.770]\n",
      "test loss : 1.589790\n",
      "test acc : 0.770\n"
     ]
    }
   ],
   "source": [
    "# Test\n",
    "print(\"============================= Test =============================\")\n",
    "test_loss, test_acc = evaluate_triplet(model, device, criterion, test_loader)\n",
    "print(\"test loss : {:.6f}\".format(test_loss))\n",
    "print(\"test acc : {:.3f}\".format(test_acc))"
   ]
  },
  {
   "cell_type": "code",
   "execution_count": 11,
   "id": "abdf5f42",
   "metadata": {},
   "outputs": [],
   "source": [
    "file_name = class_name+\"_BERT\"\n",
    "torch.save(model, f\"models/{file_name}.pt\")\n",
    "with open(f\"models/{file_name}_history.pickle\", 'wb') as f:\n",
    "    pickle.dump(history, f, pickle.HIGHEST_PROTOCOL)"
   ]
  },
  {
   "cell_type": "markdown",
   "id": "3760dcc9",
   "metadata": {},
   "source": [
    "### Klue RoBerta-base"
   ]
  },
  {
   "cell_type": "code",
   "execution_count": 6,
   "id": "60b415ba",
   "metadata": {},
   "outputs": [],
   "source": [
    "model_path = \"klue/roberta-base\"\n",
    "\n",
    "train_dataset = MyDataset_Triplet(train_x, train_y, model_path=model_path)\n",
    "valid_dataset = MyDataset_Triplet(valid_x, valid_y, model_path=model_path)\n",
    "test_dataset = MyDataset_Triplet(test_x, test_y, model_path=model_path)\n",
    "\n",
    "train_loader = DataLoader(train_dataset, batch_size=32)\n",
    "valid_loader = DataLoader(valid_dataset, batch_size=32)\n",
    "test_loader = DataLoader(test_dataset, batch_size=32)"
   ]
  },
  {
   "cell_type": "code",
   "execution_count": 7,
   "id": "c0acc796",
   "metadata": {},
   "outputs": [
    {
     "name": "stderr",
     "output_type": "stream",
     "text": [
      "Some weights of the model checkpoint at klue/roberta-base were not used when initializing RobertaModel: ['lm_head.layer_norm.weight', 'lm_head.layer_norm.bias', 'lm_head.decoder.bias', 'lm_head.dense.bias', 'lm_head.decoder.weight', 'lm_head.bias', 'lm_head.dense.weight']\n",
      "- This IS expected if you are initializing RobertaModel from the checkpoint of a model trained on another task or with another architecture (e.g. initializing a BertForSequenceClassification model from a BertForPreTraining model).\n",
      "- This IS NOT expected if you are initializing RobertaModel from the checkpoint of a model that you expect to be exactly identical (initializing a BertForSequenceClassification model from a BertForSequenceClassification model).\n",
      "Some weights of RobertaModel were not initialized from the model checkpoint at klue/roberta-base and are newly initialized: ['roberta.pooler.dense.bias', 'roberta.pooler.dense.weight']\n",
      "You should probably TRAIN this model on a down-stream task to be able to use it for predictions and inference.\n"
     ]
    },
    {
     "data": {
      "text/plain": [
       "'cuda'"
      ]
     },
     "execution_count": 7,
     "metadata": {},
     "output_type": "execute_result"
    }
   ],
   "source": [
    "class_name = \"MyModel_6\"\n",
    "model = get_Model(class_name, model_path)\n",
    "device = 'cuda' if torch.cuda.is_available() else 'cpu'\n",
    "optimizer = torch.optim.AdamW(model.parameters(), lr=5e-5)\n",
    "criterion = My_Triplet_Loss(p=0.1, margin=2)\n",
    "\n",
    "device"
   ]
  },
  {
   "cell_type": "code",
   "execution_count": 8,
   "id": "82d1bfca",
   "metadata": {},
   "outputs": [
    {
     "name": "stdout",
     "output_type": "stream",
     "text": [
      "============================= Train =============================\n",
      "294it [04:54,  1.00s/it, epoch=1/10, loss=0.021492, acc=0.731]\n",
      "16it [00:05,  2.78it/s, loss=0.018707, acc=0.784]\n",
      "\n",
      "294it [04:55,  1.01s/it, epoch=2/10, loss=0.016278, acc=0.811]\n",
      "16it [00:05,  2.78it/s, loss=0.017452, acc=0.798]\n",
      "\n",
      "294it [04:56,  1.01s/it, epoch=3/10, loss=0.013596, acc=0.852]\n",
      "16it [00:05,  2.77it/s, loss=0.018439, acc=0.792]\n",
      "\n",
      "294it [04:58,  1.02s/it, epoch=4/10, loss=0.010752, acc=0.891]\n",
      "16it [00:05,  2.81it/s, loss=0.017407, acc=0.814]\n",
      "\n",
      "294it [04:57,  1.01s/it, epoch=5/10, loss=0.008374, acc=0.920]\n",
      "16it [00:05,  2.79it/s, loss=0.018631, acc=0.802]\n",
      "\n",
      "294it [04:58,  1.01s/it, epoch=6/10, loss=0.007025, acc=0.934]\n",
      "16it [00:05,  2.80it/s, loss=0.023216, acc=0.790]\n",
      "\n",
      "294it [04:58,  1.01s/it, epoch=7/10, loss=0.006468, acc=0.937]\n",
      "16it [00:05,  2.78it/s, loss=0.021582, acc=0.798]\n",
      "\n",
      "294it [04:57,  1.01s/it, epoch=8/10, loss=0.004856, acc=0.956]\n",
      "16it [00:05,  2.85it/s, loss=0.024960, acc=0.788]\n",
      "\n",
      "294it [04:55,  1.01s/it, epoch=9/10, loss=0.003978, acc=0.964]\n",
      "16it [00:05,  2.80it/s, loss=0.024015, acc=0.800]\n",
      "\n",
      "294it [04:55,  1.01s/it, epoch=10/10, loss=0.003043, acc=0.974]\n",
      "16it [00:05,  2.78it/s, loss=0.029108, acc=0.780]\n",
      "\n"
     ]
    }
   ],
   "source": [
    "# train\n",
    "print(\"============================= Train =============================\")\n",
    "history = train_triplet(model, device, optimizer, criterion, 10, train_loader, valid_loader)"
   ]
  },
  {
   "cell_type": "code",
   "execution_count": 9,
   "id": "6ca602ca",
   "metadata": {},
   "outputs": [
    {
     "data": {
      "image/png": "[encoded data removed]",
      "text/plain": [
       "<Figure size 432x288 with 2 Axes>"
      ]
     },
     "metadata": {
      "needs_background": "light"
     },
     "output_type": "display_data"
    }
   ],
   "source": [
    "draw_history(history)"
   ]
  },
  {
   "cell_type": "code",
   "execution_count": 10,
   "id": "60d75210",
   "metadata": {},
   "outputs": [
    {
     "name": "stdout",
     "output_type": "stream",
     "text": [
      "============================= Test =============================\n",
      "4it [00:01,  3.45it/s, loss=0.044313, acc=0.760]\n",
      "test loss : 1.107824\n",
      "test acc : 0.760\n"
     ]
    }
   ],
   "source": [
    "# Test\n",
    "print(\"============================= Test =============================\")\n",
    "test_loss, test_acc = evaluate_triplet(model, device, criterion, test_loader)\n",
    "print(\"test loss : {:.6f}\".format(test_loss))\n",
    "print(\"test acc : {:.3f}\".format(test_acc))"
   ]
  },
  {
   "cell_type": "code",
   "execution_count": 11,
   "id": "ff8974bb",
   "metadata": {},
   "outputs": [],
   "source": [
    "file_name = class_name+\"_RoBERTa\"\n",
    "torch.save(model, f\"models/{file_name}.pt\")\n",
    "with open(f\"models/{file_name}_history.pickle\", 'wb') as f:\n",
    "    pickle.dump(history, f, pickle.HIGHEST_PROTOCOL)"
   ]
  },
  {
   "cell_type": "code",
   "execution_count": null,
   "id": "a234786f",
   "metadata": {},
   "outputs": [],
   "source": []
  }
 ],
 "metadata": {
  "kernelspec": {
   "display_name": "Python 3 (Notebook)",
   "language": "python",
   "name": "python3"
  },
  "language_info": {
   "codemirror_mode": {
    "name": "ipython",
    "version": 3
   },
   "file_extension": ".py",
   "mimetype": "text/x-python",
   "name": "python",
   "nbconvert_exporter": "python",
   "pygments_lexer": "ipython3",
   "version": "3.8.12"
  }
 },
 "nbformat": 4,
 "nbformat_minor": 5
}
